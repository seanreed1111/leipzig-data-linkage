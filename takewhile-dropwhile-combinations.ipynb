{
 "cells": [
  {
   "cell_type": "code",
   "execution_count": 21,
   "id": "f8df57eb-d034-412f-b8b5-e34f6bca3c48",
   "metadata": {},
   "outputs": [],
   "source": [
    "from itertools import combinations, takewhile, dropwhile"
   ]
  },
  {
   "cell_type": "code",
   "execution_count": 22,
   "id": "0413a82c-93a9-4da4-abf9-f7f76de044cd",
   "metadata": {},
   "outputs": [],
   "source": [
    "test = [1,2,3,4,5]"
   ]
  },
  {
   "cell_type": "code",
   "execution_count": 23,
   "id": "3411a5a8-107f-4217-9879-16a4b7ecdd21",
   "metadata": {},
   "outputs": [],
   "source": [
    "c = combinations(test,2)"
   ]
  },
  {
   "cell_type": "markdown",
   "id": "b667e9f6-dc0a-48a2-9285-b3b2a0b5332f",
   "metadata": {},
   "source": [
    "list(c) : [(1, 2),\n",
    " (1, 3),\n",
    " (1, 4),\n",
    " (1, 5),\n",
    " (2, 3),\n",
    " (2, 4),\n",
    " (2, 5),\n",
    " (3, 4),\n",
    " (3, 5),\n",
    " (4, 5)]"
   ]
  },
  {
   "cell_type": "code",
   "execution_count": 25,
   "id": "d77b54d9-ca4c-47c5-a824-81b5ad4bcc88",
   "metadata": {},
   "outputs": [
    {
     "data": {
      "text/plain": [
       "[(1, 2), (1, 3), (1, 4), (1, 5), (2, 3), (2, 4), (2, 5)]"
      ]
     },
     "execution_count": 25,
     "metadata": {},
     "output_type": "execute_result"
    }
   ],
   "source": [
    "t = takewhile(lambda x: x[0] < 3, combinations([1,2,3,4,5],2))\n",
    "list(t)"
   ]
  },
  {
   "cell_type": "code",
   "execution_count": 28,
   "id": "31b36f92-dd27-46ce-ab65-49c5ce1b20f8",
   "metadata": {},
   "outputs": [
    {
     "data": {
      "text/plain": [
       "[]"
      ]
     },
     "execution_count": 28,
     "metadata": {},
     "output_type": "execute_result"
    }
   ],
   "source": [
    "t = takewhile(lambda x: x[0] > 3, combinations([1,2,3,4,5],2))\n",
    "list(t)"
   ]
  },
  {
   "cell_type": "code",
   "execution_count": 31,
   "id": "deb2ddd2-39d7-4f84-8ec1-0caf88b9bc28",
   "metadata": {},
   "outputs": [
    {
     "data": {
      "text/plain": [
       "[(3, 4), (3, 5), (4, 5)]"
      ]
     },
     "execution_count": 31,
     "metadata": {},
     "output_type": "execute_result"
    }
   ],
   "source": [
    "list(dropwhile(lambda x: x[0] < 3, combinations([1,2,3,4,5],2)))\n"
   ]
  },
  {
   "cell_type": "code",
   "execution_count": 32,
   "id": "3de508ba-24f3-4980-a17b-9282b8f0ef5d",
   "metadata": {},
   "outputs": [],
   "source": [
    "from more_itertools import partition"
   ]
  },
  {
   "cell_type": "code",
   "execution_count": 42,
   "id": "3a3e693c-9126-4d74-bc38-18b8f2c31e51",
   "metadata": {},
   "outputs": [],
   "source": [
    "_, true = partition( lambda x: x[0]<3 and x[1]>3, combinations([1,2,3,4,5],2))"
   ]
  },
  {
   "cell_type": "code",
   "execution_count": 43,
   "id": "46c7f3e1-e789-4109-a82b-77252afdf921",
   "metadata": {},
   "outputs": [
    {
     "data": {
      "text/plain": [
       "{(1, 4), (1, 5), (2, 4), (2, 5)}"
      ]
     },
     "execution_count": 43,
     "metadata": {},
     "output_type": "execute_result"
    }
   ],
   "source": [
    "set(true)"
   ]
  },
  {
   "cell_type": "code",
   "execution_count": null,
   "id": "de4f6e8b-c3b7-41ae-aa41-34d7898b6eb3",
   "metadata": {},
   "outputs": [],
   "source": []
  }
 ],
 "metadata": {
  "kernelspec": {
   "display_name": "Python 3 (ipykernel)",
   "language": "python",
   "name": "python3"
  },
  "language_info": {
   "codemirror_mode": {
    "name": "ipython",
    "version": 3
   },
   "file_extension": ".py",
   "mimetype": "text/x-python",
   "name": "python",
   "nbconvert_exporter": "python",
   "pygments_lexer": "ipython3",
   "version": "3.9.6"
  }
 },
 "nbformat": 4,
 "nbformat_minor": 5
}
