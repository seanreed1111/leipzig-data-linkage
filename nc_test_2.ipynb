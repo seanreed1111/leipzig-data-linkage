{
 "cells": [
  {
   "cell_type": "code",
   "execution_count": 1,
   "id": "4d49d431-75be-4089-88f9-ebc72af8fee1",
   "metadata": {},
   "outputs": [],
   "source": [
    "import re, os, sys, unicodedata\n",
    "import pandas as pd\n",
    "import numpy as np\n",
    "import py_stringmatching as sm\n",
    "import codecs"
   ]
  },
  {
   "cell_type": "markdown",
   "id": "a8f6565f-5af2-4945-9d0f-6267b5aa79a4",
   "metadata": {},
   "source": [
    "def _normalize(data):\n",
    "    \"\"\" Normalize unicode data in Python to remove umlauts, accents, spaces, etc.\"\"\"\n",
    "    normal = unicodedata.normalize('NFKD', data).encode('ASCII', 'ignore')\n",
    "    val = normal.decode(\"utf-8\")\n",
    "    val = val.lower()\n",
    "    # remove special characters\n",
    "    val = re.sub('[^A-Za-z]+', '', val)\n",
    "    return val"
   ]
  },
  {
   "cell_type": "code",
   "execution_count": null,
   "id": "9b6729e0-551a-45cc-9a1c-106ea1cb2e65",
   "metadata": {},
   "outputs": [],
   "source": [
    "BOUNDARY = len(df0)"
   ]
  },
  {
   "cell_type": "code",
   "execution_count": 2,
   "id": "ebd08e26-952d-423d-9da6-314d9a44483c",
   "metadata": {},
   "outputs": [
    {
     "name": "stdout",
     "output_type": "stream",
     "text": [
      "<class 'pandas.core.frame.DataFrame'>\n",
      "RangeIndex: 2000000 entries, 0 to 1999999\n",
      "Data columns (total 6 columns):\n",
      " #   Column     Dtype \n",
      "---  ------     ----- \n",
      " 0   index      int64 \n",
      " 1   recid      int64 \n",
      " 2   givenname  object\n",
      " 3   surname    object\n",
      " 4   suburb     object\n",
      " 5   postcode   object\n",
      "dtypes: int64(2), object(4)\n",
      "memory usage: 91.6+ MB\n"
     ]
    }
   ],
   "source": [
    "path = '/Users/galvanize/infosys/cip/data/nc_data'\n",
    "filename0, filename1 = 'nc0.csv', 'nc1.csv'\n",
    "filepath0, filepath1 = os.path.join(path, filename0), os.path.join(path, filename1)\n",
    "df0 = pd.read_csv(filepath0, dtype={'recid':np.int64, 'givenname':str, 'surname':str, 'suburb':str, 'postcode':str})\n",
    "df1 = pd.read_csv(filepath1, dtype={'recid':np.int64, 'givenname':str, 'surname':str, 'suburb':str, 'postcode':str})\n",
    "ROW_BOUNDARY = len(df0) #separation of first and second files\n",
    "df = pd.concat([df0, df1]).reset_index()\n",
    "df.info()"
   ]
  },
  {
   "cell_type": "code",
   "execution_count": 17,
   "id": "30f1b97d-ba09-4e08-b6a4-4aa17c6650ca",
   "metadata": {},
   "outputs": [
    {
     "data": {
      "text/plain": [
       "1000000"
      ]
     },
     "execution_count": 17,
     "metadata": {},
     "output_type": "execute_result"
    }
   ],
   "source": [
    "ROW_BOUNDARY = len(df0)\n",
    "ROW_BOUNDARY"
   ]
  },
  {
   "cell_type": "code",
   "execution_count": 3,
   "id": "66dd4f70-0811-4418-aa5b-8e47f8002e80",
   "metadata": {},
   "outputs": [],
   "source": [
    "answers = df['recid']\n",
    "df = df.drop(['recid', 'index'], axis=1)"
   ]
  },
  {
   "cell_type": "code",
   "execution_count": 4,
   "id": "da5485f0-1ced-45f1-bfcc-ff7806bc6311",
   "metadata": {},
   "outputs": [],
   "source": [
    "for col in df.columns:\n",
    "    df.loc[:,col] = df[col].apply(lambda x: str(x)).str.replace('[^A-Za-z0-9]+', '', regex=True)"
   ]
  },
  {
   "cell_type": "code",
   "execution_count": 5,
   "id": "bac99376-b4a9-4ecf-9452-78f756e134da",
   "metadata": {},
   "outputs": [],
   "source": [
    "tok = sm.QgramTokenizer(qval=3, return_set=True, padding=False)"
   ]
  },
  {
   "cell_type": "code",
   "execution_count": 6,
   "id": "65c6d5f5-a0cd-442a-b7be-fb0150abb8f8",
   "metadata": {},
   "outputs": [
    {
     "data": {
      "text/html": [
       "<div>\n",
       "<style scoped>\n",
       "    .dataframe tbody tr th:only-of-type {\n",
       "        vertical-align: middle;\n",
       "    }\n",
       "\n",
       "    .dataframe tbody tr th {\n",
       "        vertical-align: top;\n",
       "    }\n",
       "\n",
       "    .dataframe thead th {\n",
       "        text-align: right;\n",
       "    }\n",
       "</style>\n",
       "<table border=\"1\" class=\"dataframe\">\n",
       "  <thead>\n",
       "    <tr style=\"text-align: right;\">\n",
       "      <th></th>\n",
       "      <th>givenname</th>\n",
       "      <th>surname</th>\n",
       "      <th>suburb</th>\n",
       "      <th>postcode</th>\n",
       "      <th>givenname_qgrams</th>\n",
       "      <th>surname_qgrams</th>\n",
       "      <th>suburb_qgrams</th>\n",
       "      <th>postcode_qgrams</th>\n",
       "    </tr>\n",
       "  </thead>\n",
       "  <tbody>\n",
       "    <tr>\n",
       "      <th>0</th>\n",
       "      <td>kadelyn</td>\n",
       "      <td>gragnani</td>\n",
       "      <td>waxhaw</td>\n",
       "      <td>2873</td>\n",
       "      <td>{lyn, kad, ely, del, ade}</td>\n",
       "      <td>{agn, nan, ani, rag, gna, gra}</td>\n",
       "      <td>{haw, axh, xha, wax}</td>\n",
       "      <td>{287, 873}</td>\n",
       "    </tr>\n",
       "    <tr>\n",
       "      <th>1</th>\n",
       "      <td>ronel</td>\n",
       "      <td>carter</td>\n",
       "      <td>washington</td>\n",
       "      <td>2788g</td>\n",
       "      <td>{ron, nel, one}</td>\n",
       "      <td>{art, rte, car, ter}</td>\n",
       "      <td>{ngt, hin, shi, ash, was, gto, ton, ing}</td>\n",
       "      <td>{788, 278, 88g}</td>\n",
       "    </tr>\n",
       "    <tr>\n",
       "      <th>2</th>\n",
       "      <td>jason</td>\n",
       "      <td>roehrig</td>\n",
       "      <td>millersceeek</td>\n",
       "      <td>286s1</td>\n",
       "      <td>{jas, aso, son}</td>\n",
       "      <td>{ehr, roe, rig, hri, oeh}</td>\n",
       "      <td>{sce, cee, rsc, eee, ler, mil, ers, lle, ill, ...</td>\n",
       "      <td>{86s, 286, 6s1}</td>\n",
       "    </tr>\n",
       "    <tr>\n",
       "      <th>3</th>\n",
       "      <td>antrea</td>\n",
       "      <td>mure</td>\n",
       "      <td>greensboro</td>\n",
       "      <td>27410</td>\n",
       "      <td>{rea, tre, ntr, ant}</td>\n",
       "      <td>{mur, ure}</td>\n",
       "      <td>{ree, sbo, een, bor, ens, oro, gre, nsb}</td>\n",
       "      <td>{410, 741, 274}</td>\n",
       "    </tr>\n",
       "    <tr>\n",
       "      <th>4</th>\n",
       "      <td>caedar</td>\n",
       "      <td>oliver</td>\n",
       "      <td>jacksonville</td>\n",
       "      <td>28542</td>\n",
       "      <td>{eda, dar, aed, cae}</td>\n",
       "      <td>{liv, oli, ver, ive}</td>\n",
       "      <td>{jac, cks, vil, ack, onv, lle, ill, nvi, kso, ...</td>\n",
       "      <td>{542, 285, 854}</td>\n",
       "    </tr>\n",
       "  </tbody>\n",
       "</table>\n",
       "</div>"
      ],
      "text/plain": [
       "  givenname   surname        suburb postcode           givenname_qgrams  \\\n",
       "0   kadelyn  gragnani        waxhaw     2873  {lyn, kad, ely, del, ade}   \n",
       "1     ronel    carter    washington    2788g            {ron, nel, one}   \n",
       "2     jason   roehrig  millersceeek    286s1            {jas, aso, son}   \n",
       "3    antrea      mure    greensboro    27410       {rea, tre, ntr, ant}   \n",
       "4    caedar    oliver  jacksonville    28542       {eda, dar, aed, cae}   \n",
       "\n",
       "                   surname_qgrams  \\\n",
       "0  {agn, nan, ani, rag, gna, gra}   \n",
       "1            {art, rte, car, ter}   \n",
       "2       {ehr, roe, rig, hri, oeh}   \n",
       "3                      {mur, ure}   \n",
       "4            {liv, oli, ver, ive}   \n",
       "\n",
       "                                       suburb_qgrams  postcode_qgrams  \n",
       "0                               {haw, axh, xha, wax}       {287, 873}  \n",
       "1           {ngt, hin, shi, ash, was, gto, ton, ing}  {788, 278, 88g}  \n",
       "2  {sce, cee, rsc, eee, ler, mil, ers, lle, ill, ...  {86s, 286, 6s1}  \n",
       "3           {ree, sbo, een, bor, ens, oro, gre, nsb}  {410, 741, 274}  \n",
       "4  {jac, cks, vil, ack, onv, lle, ill, nvi, kso, ...  {542, 285, 854}  "
      ]
     },
     "execution_count": 6,
     "metadata": {},
     "output_type": "execute_result"
    }
   ],
   "source": [
    "for col in df.columns:\n",
    "    df.loc[:,f'{col}_qgrams'] = df[col].apply(lambda x: set(tok.tokenize(x)))\n",
    "df.head()"
   ]
  },
  {
   "cell_type": "code",
   "execution_count": 7,
   "id": "350eb0de-f64d-4821-81dd-e28c7d6e763e",
   "metadata": {},
   "outputs": [
    {
     "data": {
      "text/plain": [
       "(12536, 13470, 16608, 2199)"
      ]
     },
     "execution_count": 7,
     "metadata": {},
     "output_type": "execute_result"
    }
   ],
   "source": [
    "all_suburb_qgrams = set().union(*df['suburb_qgrams'].values)\n",
    "all_givenname_qgrams = set().union(*df['givenname_qgrams'].values)\n",
    "all_surname_qgrams = set().union(*df['surname_qgrams'].values)\n",
    "all_postcode_qgrams = set().union(*df['postcode_qgrams'].values)\n",
    "len(all_suburb_qgrams), len(all_givenname_qgrams), len(all_surname_qgrams), len(all_postcode_qgrams)"
   ]
  },
  {
   "cell_type": "code",
   "execution_count": 8,
   "id": "7965c646-ed98-4e2d-bc2c-4d08e2e584d8",
   "metadata": {},
   "outputs": [],
   "source": [
    "from collections import defaultdict"
   ]
  },
  {
   "cell_type": "markdown",
   "id": "4fe697c0-71a2-485b-8bc0-10a9fe72ef7f",
   "metadata": {},
   "source": [
    "df.head()"
   ]
  },
  {
   "cell_type": "code",
   "execution_count": 9,
   "id": "6bd7cdce-2919-498e-a0e6-adbdbf25151b",
   "metadata": {},
   "outputs": [
    {
     "data": {
      "text/plain": [
       "{'287', '873'}"
      ]
     },
     "execution_count": 9,
     "metadata": {},
     "output_type": "execute_result"
    }
   ],
   "source": [
    "postcode_dict = dict(zip(df.index, df.postcode_qgrams))\n",
    "postcode_dict[0]"
   ]
  },
  {
   "cell_type": "code",
   "execution_count": 10,
   "id": "4b5b6e21-dec2-451c-a8b2-023088585e0c",
   "metadata": {},
   "outputs": [],
   "source": [
    "inverted_postcode_dict = defaultdict(list)\n",
    "for key, values in postcode_dict.items():\n",
    "    for value in values:\n",
    "        inverted_postcode_dict[value].append(key)\n"
   ]
  },
  {
   "cell_type": "markdown",
   "id": "398a3d9d-b011-43c6-bd5a-0ca616de6083",
   "metadata": {},
   "source": [
    "inverted_postcode_dict['287'] = \n",
    "[0,\n",
    " 46,\n",
    " 53,\n",
    " 75,\n",
    " 84,\n",
    " 85,\n",
    " 123,\n",
    " 127,\n",
    " 156,\n",
    " 166,\n",
    " ..."
   ]
  },
  {
   "cell_type": "markdown",
   "id": "56b2f4b4-475f-46fb-b3ed-0dd787cf03a5",
   "metadata": {},
   "source": [
    "for each key, e.g., '287', the list of values are the blocks I need to compare!\n",
    "\n",
    "ensure that there are no duplicates in the groupings from one key to the next"
   ]
  },
  {
   "cell_type": "code",
   "execution_count": 21,
   "id": "a8c787cf-572a-4c1a-a0cb-79f24fe755f3",
   "metadata": {},
   "outputs": [],
   "source": [
    "from itertools import combinations\n",
    "from more_itertools import partition"
   ]
  },
  {
   "cell_type": "code",
   "execution_count": 25,
   "id": "1f00ba5a-f016-4038-95fd-7a4d35e5af62",
   "metadata": {},
   "outputs": [],
   "source": [
    "_, item287 = partition(lambda t: t[0] < ROW_BOUNDARY and t[1] >= ROW_BOUNDARY, combinations(inverted_postcode_dict['287'], 2))"
   ]
  },
  {
   "cell_type": "code",
   "execution_count": 26,
   "id": "3e7b5513-3685-438e-a846-d1f0d55a69bc",
   "metadata": {},
   "outputs": [
    {
     "data": {
      "text/plain": [
       "(0, 1000005)"
      ]
     },
     "execution_count": 26,
     "metadata": {},
     "output_type": "execute_result"
    }
   ],
   "source": [
    "next(item287)"
   ]
  },
  {
   "cell_type": "code",
   "execution_count": 27,
   "id": "de7d8682-0607-457b-b81a-e0ddec2ea69e",
   "metadata": {},
   "outputs": [
    {
     "data": {
      "text/html": [
       "<div>\n",
       "<style scoped>\n",
       "    .dataframe tbody tr th:only-of-type {\n",
       "        vertical-align: middle;\n",
       "    }\n",
       "\n",
       "    .dataframe tbody tr th {\n",
       "        vertical-align: top;\n",
       "    }\n",
       "\n",
       "    .dataframe thead th {\n",
       "        text-align: right;\n",
       "    }\n",
       "</style>\n",
       "<table border=\"1\" class=\"dataframe\">\n",
       "  <thead>\n",
       "    <tr style=\"text-align: right;\">\n",
       "      <th></th>\n",
       "      <th>givenname</th>\n",
       "      <th>surname</th>\n",
       "      <th>suburb</th>\n",
       "      <th>postcode</th>\n",
       "      <th>givenname_qgrams</th>\n",
       "      <th>surname_qgrams</th>\n",
       "      <th>suburb_qgrams</th>\n",
       "      <th>postcode_qgrams</th>\n",
       "    </tr>\n",
       "  </thead>\n",
       "  <tbody>\n",
       "    <tr>\n",
       "      <th>0</th>\n",
       "      <td>kadelyn</td>\n",
       "      <td>gragnani</td>\n",
       "      <td>waxhaw</td>\n",
       "      <td>2873</td>\n",
       "      <td>{lyn, kad, ely, del, ade}</td>\n",
       "      <td>{agn, nan, ani, rag, gna, gra}</td>\n",
       "      <td>{haw, axh, xha, wax}</td>\n",
       "      <td>{287, 873}</td>\n",
       "    </tr>\n",
       "    <tr>\n",
       "      <th>100005</th>\n",
       "      <td>grover</td>\n",
       "      <td>turner</td>\n",
       "      <td>lenoir</td>\n",
       "      <td>28645</td>\n",
       "      <td>{gro, rov, ove, ver}</td>\n",
       "      <td>{rne, urn, ner, tur}</td>\n",
       "      <td>{eno, noi, len, oir}</td>\n",
       "      <td>{286, 864, 645}</td>\n",
       "    </tr>\n",
       "  </tbody>\n",
       "</table>\n",
       "</div>"
      ],
      "text/plain": [
       "       givenname   surname  suburb postcode           givenname_qgrams  \\\n",
       "0        kadelyn  gragnani  waxhaw     2873  {lyn, kad, ely, del, ade}   \n",
       "100005    grover    turner  lenoir    28645       {gro, rov, ove, ver}   \n",
       "\n",
       "                        surname_qgrams         suburb_qgrams  postcode_qgrams  \n",
       "0       {agn, nan, ani, rag, gna, gra}  {haw, axh, xha, wax}       {287, 873}  \n",
       "100005            {rne, urn, ner, tur}  {eno, noi, len, oir}  {286, 864, 645}  "
      ]
     },
     "execution_count": 27,
     "metadata": {},
     "output_type": "execute_result"
    }
   ],
   "source": [
    "df.iloc[[0,100005]]"
   ]
  },
  {
   "cell_type": "code",
   "execution_count": null,
   "id": "0ecb596c-57da-47de-87c8-5039e1b886ae",
   "metadata": {},
   "outputs": [],
   "source": []
  },
  {
   "cell_type": "code",
   "execution_count": null,
   "id": "686bbe3e-f8fe-41d0-a73e-921639212bdc",
   "metadata": {},
   "outputs": [],
   "source": [
    "combinations(inverted_postcode_dict['287'], 2) #returns an iterator which ultimately returns tuples"
   ]
  },
  {
   "cell_type": "code",
   "execution_count": null,
   "id": "7d3b7ce7-2fb4-455c-841f-a0ab0212f920",
   "metadata": {},
   "outputs": [],
   "source": [
    "postcode_df = pd.DataFrame(data=all_postcode_qgrams, columns=['postcode_grams'])\n",
    "postcode_df"
   ]
  },
  {
   "cell_type": "code",
   "execution_count": null,
   "id": "f907eb74-225f-4e4d-b381-e860bf3d2333",
   "metadata": {},
   "outputs": [],
   "source": []
  },
  {
   "cell_type": "markdown",
   "id": "0d29ea21-d092-49f2-9a2a-6ea8ce98969a",
   "metadata": {},
   "source": [
    "total = set()\n",
    "f = [{4,5}, {5,6}, {6,8}, {9,4}]\n",
    "for item in f:\n",
    "    total.update(item)\n",
    "\n",
    "total"
   ]
  },
  {
   "cell_type": "markdown",
   "id": "1104b386-2cab-4a10-9993-55ad7af12f67",
   "metadata": {},
   "source": [
    "task: \n",
    "    find all the existing trigrams for each field\n"
   ]
  },
  {
   "cell_type": "code",
   "execution_count": null,
   "id": "7126039e-c9cc-430e-8bf9-ca543884a6aa",
   "metadata": {},
   "outputs": [],
   "source": [
    "all_suburb_qgrams = set().union(*df['suburb0_qgrams'].values).union(*df['suburb1_qgrams'])\n",
    "all_givenname_qgrams = set().union(*df['givenname0_qgrams'].values).union(*df['givenname1_qgrams'])\n",
    "all_surname_qgrams = set().union(*df['surname0_qgrams'].values).union(*df['surname1_qgrams'])\n",
    "all_postcode_qgrams = set().union(*df['postcode0_qgrams'].values).union(*df['postcode1_qgrams'])\n",
    "len(all_suburb_qgrams), len(all_givenname_qgrams), len(all_surname_qgrams), len(all_postcode_qgrams)"
   ]
  },
  {
   "cell_type": "code",
   "execution_count": null,
   "id": "c1bc3a1e-ca0d-480e-bd7f-fbed734a65df",
   "metadata": {},
   "outputs": [],
   "source": []
  },
  {
   "cell_type": "code",
   "execution_count": null,
   "id": "b3ffd58c-50e1-44aa-a5e7-6f27e49bbf99",
   "metadata": {},
   "outputs": [],
   "source": [
    "test_df = df.iloc[:10]\n",
    "test_df"
   ]
  },
  {
   "cell_type": "code",
   "execution_count": null,
   "id": "e4346949-8952-4d97-ad07-3fdab6f70197",
   "metadata": {},
   "outputs": [],
   "source": [
    "#let's concentrate on the postcodes"
   ]
  },
  {
   "cell_type": "code",
   "execution_count": null,
   "id": "5de7cbd6-38d9-43d2-b19c-a824acf40df9",
   "metadata": {},
   "outputs": [],
   "source": [
    "postcode_qgrams = set().union(*test_df['postcode0_qgrams'].values).union(*test_df['postcode1_qgrams'])\n",
    "len(postcode_qgrams)"
   ]
  },
  {
   "cell_type": "code",
   "execution_count": null,
   "id": "3f4e55cb-fd54-4fd8-b8fa-d36f12876219",
   "metadata": {},
   "outputs": [],
   "source": [
    "test_df"
   ]
  },
  {
   "cell_type": "code",
   "execution_count": null,
   "id": "ebc0fcdd-85a5-4550-ade4-3d7d08b0dac8",
   "metadata": {},
   "outputs": [],
   "source": []
  },
  {
   "cell_type": "code",
   "execution_count": null,
   "id": "2db48201-bea5-4d51-94b5-f8ca7ffc8170",
   "metadata": {},
   "outputs": [],
   "source": []
  },
  {
   "cell_type": "code",
   "execution_count": null,
   "id": "9fe51a24-aaae-4a5f-a2bc-f5b0a7bdef42",
   "metadata": {},
   "outputs": [],
   "source": []
  },
  {
   "cell_type": "markdown",
   "id": "c2c63357-c3b0-4306-be72-ba851ebed7f7",
   "metadata": {},
   "source": [
    "Old Version"
   ]
  },
  {
   "cell_type": "code",
   "execution_count": null,
   "id": "f07ba7bf-c09d-49df-8d56-d765d5fa20d3",
   "metadata": {},
   "outputs": [],
   "source": []
  },
  {
   "cell_type": "code",
   "execution_count": null,
   "id": "053547d1-bbeb-40d8-9689-f96b264b613c",
   "metadata": {},
   "outputs": [],
   "source": [
    "task: \n",
    "    for each column \n",
    "    assign the column index to trigrams it contains "
   ]
  },
  {
   "cell_type": "code",
   "execution_count": null,
   "id": "cf1b86dc-f814-4c34-b673-86d9da5edafc",
   "metadata": {},
   "outputs": [],
   "source": []
  },
  {
   "cell_type": "code",
   "execution_count": null,
   "id": "57d616b0-2bff-4b67-aed3-fef3ea38046d",
   "metadata": {},
   "outputs": [],
   "source": []
  },
  {
   "cell_type": "code",
   "execution_count": null,
   "id": "75f24296-543a-429b-bcdd-d3637d36b446",
   "metadata": {},
   "outputs": [],
   "source": []
  },
  {
   "cell_type": "markdown",
   "id": "7d175590-8b6c-459a-be6e-2aa12345b506",
   "metadata": {},
   "source": []
  },
  {
   "cell_type": "markdown",
   "id": "cae51b32-45a3-44f9-953a-5444d9e4ca66",
   "metadata": {},
   "source": [
    "## super slow!!!!\n",
    "# suburbs key = trigram, value = index\n",
    "\n",
    "suburb_dd = defaultdict(list)\n",
    "for value, keys in zip(df.index, df['suburb0_qgrams']):\n",
    "    for key in keys:\n",
    "        suburb_dd[key].append(['0',value])\n",
    "\n",
    "for value, keys in zip(df.index, df['suburb1_qgrams']):\n",
    "    for key in keys:\n",
    "        suburb_dd[key].append(['1',value])"
   ]
  },
  {
   "cell_type": "markdown",
   "id": "5713a734-b670-48ec-91ff-4b21298dae89",
   "metadata": {},
   "source": [
    "givenname_dd =  defaultdict(list)\n",
    "for value, keys in zip(df.index, df['givenname0_qgrams']):\n",
    "    for key in keys:\n",
    "        givenname_dd[key].append(['0',value])\n",
    "\n",
    "for value, keys in zip(df.index, df['givenname1_qgrams']):\n",
    "    for key in keys:\n",
    "        givenname_dd[key].append(['1',value])"
   ]
  },
  {
   "cell_type": "markdown",
   "id": "920e66e8-d16e-4086-b009-e6e761483d21",
   "metadata": {},
   "source": [
    "surname_dd = defaultdict(list)\n",
    "for value, keys in zip(df.index, df['surname0_qgrams']):\n",
    "    for key in keys:\n",
    "        surname_dd[key].append(['0',value])\n",
    "\n",
    "for value, keys in zip(df.index, df['surname1_qgrams']):\n",
    "    for key in keys:\n",
    "        surname_dd[key].append(['1',value])"
   ]
  },
  {
   "cell_type": "markdown",
   "id": "1ada7f68-fb2a-41a9-a8fe-b75332dc091a",
   "metadata": {},
   "source": [
    "postcode_dd = defaultdict(list)\n",
    "for value, keys in zip(df.index, df['postcode0_qgrams']):\n",
    "    for key in keys:\n",
    "        postcode_dd[key].append(['0',value])\n",
    "\n",
    "for value, keys in zip(df.index, df['postcode1_qgrams']):\n",
    "    for key in keys:\n",
    "        postcode_dd[key].append(['1',value])"
   ]
  },
  {
   "cell_type": "code",
   "execution_count": null,
   "id": "280e709e-34fd-4020-828b-35f291eea1f8",
   "metadata": {},
   "outputs": [],
   "source": [
    "import pickle"
   ]
  },
  {
   "cell_type": "code",
   "execution_count": null,
   "id": "115ef15b-b3b3-4584-ba8d-1218ceb56912",
   "metadata": {},
   "outputs": [],
   "source": [
    "saved_data = {}\n",
    "saved_data['suburb_dd']= suburb_dd\n",
    "saved_data['givenname_dd']= givenname_dd\n",
    "saved_data['surname_dd']= surname_dd\n",
    "saved_data['postcode_dd']= postcode_dd\n",
    "\n",
    "saved_data['all_suburb_qgrams']= all_suburb_qgrams\n",
    "saved_data['all_givenname_qgrams']= all_givenname_qgrams\n",
    "saved_data['all_surname_qgrams']= all_surname_qgrams\n",
    "saved_data['all_postcode_qgrams']= all_postcode_qgrams\n",
    "\n",
    "saved_data['df']= df\n",
    "saved_data['df0']= df0\n",
    "saved_data['df1']= df1\n",
    "\n",
    "with open('nc_test.pickle', 'wb') as f:\n",
    "    pickle.dump(saved_data, f)"
   ]
  },
  {
   "cell_type": "code",
   "execution_count": null,
   "id": "5f86c8de-e6a4-4f01-b4ed-dd2ce6235f62",
   "metadata": {},
   "outputs": [],
   "source": [
    "computed_items = {}\n",
    "computed_items['suburb_dd']= suburb_dd\n",
    "computed_items['givenname_dd']= givenname_dd\n",
    "computed_items['surname_dd']= surname_dd\n",
    "computed_items['postcode_dd']= postcode_dd\n",
    "\n",
    "computed_items['all_suburb_qgrams']= all_suburb_qgrams\n",
    "computed_items['all_givenname_qgrams']= all_givenname_qgrams\n",
    "computed_items['all_surname_qgrams']= all_surname_qgrams\n",
    "computed_items['all_postcode_qgrams']= all_postcode_qgrams\n",
    "\n",
    "with open('nc_test_computed.pickle', 'wb') as f:\n",
    "    pickle.dump(computed_items, f)\n",
    "    \n",
    "data_frame = {}\n",
    "data_frame['df']= df\n",
    "with open('nc_test_df.pickle', 'wb') as f:\n",
    "    pickle.dump(data_frame, f)"
   ]
  },
  {
   "cell_type": "code",
   "execution_count": null,
   "id": "31c440b1-9391-4eba-9b44-ee132f4e90b9",
   "metadata": {},
   "outputs": [],
   "source": [
    "len(all_suburb_qgrams)"
   ]
  },
  {
   "cell_type": "code",
   "execution_count": null,
   "id": "22a34658-1f0c-4c20-aadc-1ccdddce2e3f",
   "metadata": {},
   "outputs": [],
   "source": [
    "# SLOW. don't run this\n",
    "# for key in suburb_dd.keys():\n",
    "#     print(key, suburb_dd[key])\n",
    "\n",
    "test_key = 'wax'\n",
    "print(len(suburb_dd[test_key]))\n",
    "# print(suburb_dd[test_key])\n",
    "# make a tuple for each suburb. \n",
    "# first item is the dataset #,\n",
    "# second item is the key,\n",
    "# third item is a set of indexes for that key\n",
    "\n",
    "test_key = suburb_dd[test_key]"
   ]
  },
  {
   "cell_type": "code",
   "execution_count": null,
   "id": "5ea00379-7381-4ee5-aa09-c4a9d34404f8",
   "metadata": {},
   "outputs": [],
   "source": [
    "test_key_0 = "
   ]
  },
  {
   "cell_type": "markdown",
   "id": "d5c7a6fb-8701-45c7-9408-64144d93240b",
   "metadata": {},
   "source": [
    "# assign trigrams for each r\n",
    "dd = defaultdict(list)\n"
   ]
  },
  {
   "cell_type": "markdown",
   "id": "80e6b267-4ea3-4fb0-9d1d-ff8831adc5bb",
   "metadata": {},
   "source": [
    "QGRAMS = namedtuple('QGRAMS','suburb, givenname, surname, postcode') "
   ]
  },
  {
   "cell_type": "markdown",
   "id": "7f1f03b5-43b9-4978-af03-a6009eef5438",
   "metadata": {},
   "source": [
    "data0 = QGRAMS(df['suburb0_qgrams'],df['givenname0_qgrams'],df['surname0_qgrams'],df['postcode0_qgrams'])"
   ]
  },
  {
   "cell_type": "markdown",
   "id": "2ab07bc3-a0be-417d-a364-aa8c0c338e34",
   "metadata": {},
   "source": [
    "data1 = QGRAMS(df['suburb1_qgrams'],df['givenname1_qgrams'],df['surname1_qgrams'],df['postcode1_qgrams'])"
   ]
  },
  {
   "cell_type": "markdown",
   "id": "6878f6ff-f8df-4509-b734-42043d1f1997",
   "metadata": {},
   "source": [
    "data0.suburb"
   ]
  },
  {
   "cell_type": "markdown",
   "id": "5d54174a-7080-4223-a108-5a31cc984cc7",
   "metadata": {},
   "source": [
    "data1.suburb"
   ]
  },
  {
   "cell_type": "code",
   "execution_count": null,
   "id": "bc1fd264-a1af-4486-aee3-81c04d082a8f",
   "metadata": {},
   "outputs": [],
   "source": []
  }
 ],
 "metadata": {
  "kernelspec": {
   "display_name": "Python 3 (ipykernel)",
   "language": "python",
   "name": "python3"
  },
  "language_info": {
   "codemirror_mode": {
    "name": "ipython",
    "version": 3
   },
   "file_extension": ".py",
   "mimetype": "text/x-python",
   "name": "python",
   "nbconvert_exporter": "python",
   "pygments_lexer": "ipython3",
   "version": "3.9.6"
  }
 },
 "nbformat": 4,
 "nbformat_minor": 5
}
