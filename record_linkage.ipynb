{
 "cells": [
  {
   "cell_type": "markdown",
   "id": "69d33f83-cfb5-42e1-bb5b-65baf6c65526",
   "metadata": {},
   "source": [
    "!pip install recordlinkage\n",
    "\n",
    "https://dbs.uni-leipzig.de/de/research/projects/object_matching/benchmark_datasets_for_entity_resolution"
   ]
  },
  {
   "cell_type": "code",
   "execution_count": null,
   "id": "a38f8b67-b55d-433d-8c82-4c6651c7b271",
   "metadata": {},
   "outputs": [],
   "source": []
  },
  {
   "cell_type": "code",
   "execution_count": 1,
   "id": "fb1f944a-cf3e-4bed-a631-b370d59ea379",
   "metadata": {},
   "outputs": [],
   "source": [
    "import warnings\n",
    "warnings.filterwarnings(\"ignore\")\n",
    "from recordlinkage.preprocessing import clean, phonetic\n",
    "import pandas as pd\n",
    "import numpy as np\n",
    "import os"
   ]
  },
  {
   "cell_type": "code",
   "execution_count": 1,
   "id": "8b4557c7-49bb-485e-bdc5-e8444107da73",
   "metadata": {},
   "outputs": [],
   "source": [
    "def normalize(data):\n",
    "    \"\"\" Normalize unicode data in Python to remove umlauts, accents etc. Return doublemetaphone \"\"\"\n",
    "    normal = unicodedata.normalize('NFKD', data).encode('ASCII', 'ignore')\n",
    "    val = normal.decode(\"utf-8\")\n",
    "    val = val.lower()\n",
    "    # remove special characters\n",
    "    val = re.sub('[^a-z]+', '', val)\n",
    "    return val"
   ]
  },
  {
   "cell_type": "code",
   "execution_count": 2,
   "id": "c806401f-6de0-445c-bfb0-a3ac6e7a39d9",
   "metadata": {},
   "outputs": [],
   "source": [
    "dir = '/Users/galvanize/infosys/cip/leipzig-data-linkage/data/nc_data'\n",
    "file0 = 'ncvr_numrec_1000000_modrec_2_ocp_20_myp_0_nump_5.csv'\n",
    "file1 = 'ncvr_numrec_1000000_modrec_2_ocp_20_myp_1_nump_5.csv'\n",
    "\n"
   ]
  },
  {
   "cell_type": "code",
   "execution_count": 19,
   "id": "fe7639ae-c051-42c0-b786-83129ab8c3fc",
   "metadata": {},
   "outputs": [],
   "source": [
    "df0 = pd.read_csv(os.path.join(dir,file0), index_col='recid')\n",
    "df1 = pd.read_csv(os.path.join(dir,file0), index_col='recid')"
   ]
  },
  {
   "cell_type": "code",
   "execution_count": 20,
   "id": "201e8d23-eece-43cc-8cfc-62a6c5aff0d1",
   "metadata": {},
   "outputs": [
    {
     "name": "stdout",
     "output_type": "stream",
     "text": [
      "<class 'pandas.core.frame.DataFrame'>\n",
      "Int64Index: 1000000 entries, 7852009 to 6586215\n",
      "Data columns (total 4 columns):\n",
      " #   Column     Non-Null Count   Dtype \n",
      "---  ------     --------------   ----- \n",
      " 0   givenname  999928 non-null  object\n",
      " 1   surname    999980 non-null  object\n",
      " 2   suburb     999953 non-null  object\n",
      " 3   postcode   999942 non-null  object\n",
      "dtypes: object(4)\n",
      "memory usage: 38.1+ MB\n"
     ]
    }
   ],
   "source": [
    "df0.info()"
   ]
  },
  {
   "cell_type": "code",
   "execution_count": 37,
   "id": "66442aab-a003-434d-a669-4b0b5be5d943",
   "metadata": {},
   "outputs": [],
   "source": [
    "df0.loc[:,'suburb_clean'] = phonetic(clean(df0['suburb']), method='metaphone')"
   ]
  },
  {
   "cell_type": "code",
   "execution_count": 38,
   "id": "ed67c1a3-3ec4-4b65-b9f8-d38212d227df",
   "metadata": {},
   "outputs": [],
   "source": [
    "df1.loc[:,'suburb_clean'] = phonetic(clean(df0['suburb']), method='metaphone')"
   ]
  },
  {
   "cell_type": "code",
   "execution_count": 48,
   "id": "4e74a21d-67b2-441c-a4c8-61493da5809a",
   "metadata": {},
   "outputs": [
    {
     "data": {
      "text/plain": [
       "XRLT          81160\n",
       "RL            51535\n",
       "KRNSBR        34519\n",
       "TRHM          31382\n",
       "WNSTNSLM      27456\n",
       "              ...  \n",
       "HPLT              1\n",
       "EPKS              1\n",
       "FRKJ              1\n",
       "PLSFNTKRTN        1\n",
       "KNPLSS            1\n",
       "Name: suburb_clean, Length: 8340, dtype: int64"
      ]
     },
     "execution_count": 48,
     "metadata": {},
     "output_type": "execute_result"
    }
   ],
   "source": [
    "df0['suburb_clean'].value_counts()"
   ]
  },
  {
   "cell_type": "code",
   "execution_count": 41,
   "id": "6b7b4ddb-42c7-48b5-919d-597e6401c0b0",
   "metadata": {},
   "outputs": [],
   "source": [
    "df0.loc[:,'givenname_clean'] = phonetic(clean(df0['givenname']), method='metaphone')\n",
    "df0.loc[:,'surname_clean'] = phonetic(clean(df0['surname']), method='metaphone')\n",
    "df1.loc[:,'givenname_clean'] = phonetic(clean(df1['givenname']), method='metaphone')\n",
    "df1.loc[:,'surname_clean'] = phonetic(clean(df1['surname']), method='metaphone')"
   ]
  },
  {
   "cell_type": "code",
   "execution_count": 42,
   "id": "702983a1-8e22-41fd-a4eb-ce582193857b",
   "metadata": {},
   "outputs": [
    {
     "data": {
      "text/html": [
       "<div>\n",
       "<style scoped>\n",
       "    .dataframe tbody tr th:only-of-type {\n",
       "        vertical-align: middle;\n",
       "    }\n",
       "\n",
       "    .dataframe tbody tr th {\n",
       "        vertical-align: top;\n",
       "    }\n",
       "\n",
       "    .dataframe thead th {\n",
       "        text-align: right;\n",
       "    }\n",
       "</style>\n",
       "<table border=\"1\" class=\"dataframe\">\n",
       "  <thead>\n",
       "    <tr style=\"text-align: right;\">\n",
       "      <th></th>\n",
       "      <th>givenname</th>\n",
       "      <th>surname</th>\n",
       "      <th>suburb</th>\n",
       "      <th>postcode</th>\n",
       "      <th>suburb_clean</th>\n",
       "      <th>givenname_clean</th>\n",
       "      <th>surname_clean</th>\n",
       "    </tr>\n",
       "    <tr>\n",
       "      <th>recid</th>\n",
       "      <th></th>\n",
       "      <th></th>\n",
       "      <th></th>\n",
       "      <th></th>\n",
       "      <th></th>\n",
       "      <th></th>\n",
       "      <th></th>\n",
       "    </tr>\n",
       "  </thead>\n",
       "  <tbody>\n",
       "    <tr>\n",
       "      <th>7852009</th>\n",
       "      <td>kadelyn</td>\n",
       "      <td>gragnani</td>\n",
       "      <td>waxhaw</td>\n",
       "      <td>28|73</td>\n",
       "      <td>WKSH</td>\n",
       "      <td>KTLN</td>\n",
       "      <td>KRKNN</td>\n",
       "    </tr>\n",
       "    <tr>\n",
       "      <th>3138435</th>\n",
       "      <td>ronel</td>\n",
       "      <td>carter</td>\n",
       "      <td>washington</td>\n",
       "      <td>2788g</td>\n",
       "      <td>WXNKTN</td>\n",
       "      <td>RNL</td>\n",
       "      <td>KRTR</td>\n",
       "    </tr>\n",
       "    <tr>\n",
       "      <th>6117295</th>\n",
       "      <td>jason</td>\n",
       "      <td>roehrig</td>\n",
       "      <td>millers ceeek</td>\n",
       "      <td>286s1</td>\n",
       "      <td>MLRSSK</td>\n",
       "      <td>JSN</td>\n",
       "      <td>RRK</td>\n",
       "    </tr>\n",
       "    <tr>\n",
       "      <th>6401695</th>\n",
       "      <td>antrea</td>\n",
       "      <td>mure</td>\n",
       "      <td>greensboro</td>\n",
       "      <td>27410</td>\n",
       "      <td>KRNSBR</td>\n",
       "      <td>ANTR</td>\n",
       "      <td>MR</td>\n",
       "    </tr>\n",
       "    <tr>\n",
       "      <th>5202204</th>\n",
       "      <td>caedar</td>\n",
       "      <td>oliver</td>\n",
       "      <td>jacksonville</td>\n",
       "      <td>28542</td>\n",
       "      <td>JKSNFL</td>\n",
       "      <td>KTR</td>\n",
       "      <td>OLFR</td>\n",
       "    </tr>\n",
       "    <tr>\n",
       "      <th>...</th>\n",
       "      <td>...</td>\n",
       "      <td>...</td>\n",
       "      <td>...</td>\n",
       "      <td>...</td>\n",
       "      <td>...</td>\n",
       "      <td>...</td>\n",
       "      <td>...</td>\n",
       "    </tr>\n",
       "    <tr>\n",
       "      <th>6614741</th>\n",
       "      <td>virginia</td>\n",
       "      <td>angle</td>\n",
       "      <td>charlotte</td>\n",
       "      <td>28205.0</td>\n",
       "      <td>XRLT</td>\n",
       "      <td>FRJN</td>\n",
       "      <td>ANKL</td>\n",
       "    </tr>\n",
       "    <tr>\n",
       "      <th>2840680</th>\n",
       "      <td>james</td>\n",
       "      <td>stone</td>\n",
       "      <td>eden</td>\n",
       "      <td>27288.0</td>\n",
       "      <td>ETN</td>\n",
       "      <td>JMS</td>\n",
       "      <td>STN</td>\n",
       "    </tr>\n",
       "    <tr>\n",
       "      <th>5781566</th>\n",
       "      <td>rebecca</td>\n",
       "      <td>allen</td>\n",
       "      <td>willow springs</td>\n",
       "      <td>27592.0</td>\n",
       "      <td>WLSPRNKS</td>\n",
       "      <td>RBKK</td>\n",
       "      <td>ALN</td>\n",
       "    </tr>\n",
       "    <tr>\n",
       "      <th>1737677</th>\n",
       "      <td>julie</td>\n",
       "      <td>cummings</td>\n",
       "      <td>fremont</td>\n",
       "      <td>27830.0</td>\n",
       "      <td>FRMNT</td>\n",
       "      <td>JL</td>\n",
       "      <td>KMNKS</td>\n",
       "    </tr>\n",
       "    <tr>\n",
       "      <th>6586215</th>\n",
       "      <td>lewis</td>\n",
       "      <td>sutton</td>\n",
       "      <td>aberdeen</td>\n",
       "      <td>28315.0</td>\n",
       "      <td>ABRTN</td>\n",
       "      <td>LWS</td>\n",
       "      <td>STN</td>\n",
       "    </tr>\n",
       "  </tbody>\n",
       "</table>\n",
       "<p>1000000 rows × 7 columns</p>\n",
       "</div>"
      ],
      "text/plain": [
       "        givenname   surname          suburb postcode suburb_clean  \\\n",
       "recid                                                               \n",
       "7852009   kadelyn  gragnani          waxhaw    28|73         WKSH   \n",
       "3138435     ronel    carter      washington    2788g       WXNKTN   \n",
       "6117295     jason   roehrig   millers ceeek    286s1       MLRSSK   \n",
       "6401695    antrea      mure      greensboro    27410       KRNSBR   \n",
       "5202204    caedar    oliver    jacksonville    28542       JKSNFL   \n",
       "...           ...       ...             ...      ...          ...   \n",
       "6614741  virginia     angle       charlotte  28205.0         XRLT   \n",
       "2840680     james     stone            eden  27288.0          ETN   \n",
       "5781566   rebecca     allen  willow springs  27592.0     WLSPRNKS   \n",
       "1737677     julie  cummings         fremont  27830.0        FRMNT   \n",
       "6586215     lewis    sutton        aberdeen  28315.0        ABRTN   \n",
       "\n",
       "        givenname_clean surname_clean  \n",
       "recid                                  \n",
       "7852009            KTLN         KRKNN  \n",
       "3138435             RNL          KRTR  \n",
       "6117295             JSN           RRK  \n",
       "6401695            ANTR            MR  \n",
       "5202204             KTR          OLFR  \n",
       "...                 ...           ...  \n",
       "6614741            FRJN          ANKL  \n",
       "2840680             JMS           STN  \n",
       "5781566            RBKK           ALN  \n",
       "1737677              JL         KMNKS  \n",
       "6586215             LWS           STN  \n",
       "\n",
       "[1000000 rows x 7 columns]"
      ]
     },
     "execution_count": 42,
     "metadata": {},
     "output_type": "execute_result"
    }
   ],
   "source": [
    "df0"
   ]
  },
  {
   "cell_type": "code",
   "execution_count": 43,
   "id": "5f16eb63-81ef-46de-b93f-10710a69906e",
   "metadata": {},
   "outputs": [
    {
     "data": {
      "text/plain": [
       "JN        27134\n",
       "JMS       18513\n",
       "MXL       17856\n",
       "TN        16591\n",
       "MR        14835\n",
       "          ...  \n",
       "SLL0          1\n",
       "NNSKML        1\n",
       "JFSTR         1\n",
       "ELMSLM        1\n",
       "KRLNF         1\n",
       "Name: givenname_clean, Length: 17259, dtype: int64"
      ]
     },
     "execution_count": 43,
     "metadata": {},
     "output_type": "execute_result"
    }
   ],
   "source": [
    "df0['givenname_clean'].value_counts()"
   ]
  },
  {
   "cell_type": "code",
   "execution_count": 44,
   "id": "4d52445f-5772-4387-b809-46d9c309a454",
   "metadata": {},
   "outputs": [
    {
     "data": {
      "text/plain": [
       "james        18232\n",
       "william      14093\n",
       "robert       13735\n",
       "john         13651\n",
       "michael      13442\n",
       "             ...  \n",
       "delbrecco        1\n",
       "taiysha          1\n",
       "jameena          1\n",
       "shabrea          1\n",
       "keane            1\n",
       "Name: givenname, Length: 76769, dtype: int64"
      ]
     },
     "execution_count": 44,
     "metadata": {},
     "output_type": "execute_result"
    }
   ],
   "source": [
    "df0['givenname'].value_counts()"
   ]
  },
  {
   "cell_type": "code",
   "execution_count": null,
   "id": "c97180b5-e4fa-4e0b-a262-284dd6042917",
   "metadata": {},
   "outputs": [],
   "source": [
    "df0['surname_clean'].value_counts() == 1"
   ]
  },
  {
   "cell_type": "code",
   "execution_count": 46,
   "id": "bd5102bc-7908-4994-82d3-fa307dee5b4d",
   "metadata": {},
   "outputs": [
    {
     "data": {
      "text/plain": [
       "smith                 12014\n",
       "williams               9313\n",
       "johnson                8526\n",
       "jones                  8299\n",
       "brown                  6933\n",
       "                      ...  \n",
       "boxce                     1\n",
       "fuentes de arriaga        1\n",
       "etcho                     1\n",
       "gilcreast                 1\n",
       "fristoe                   1\n",
       "Name: surname, Length: 134895, dtype: int64"
      ]
     },
     "execution_count": 46,
     "metadata": {},
     "output_type": "execute_result"
    }
   ],
   "source": [
    "df0['surname'].value_counts()"
   ]
  }
 ],
 "metadata": {
  "kernelspec": {
   "display_name": "Python 3 (ipykernel)",
   "language": "python",
   "name": "python3"
  },
  "language_info": {
   "codemirror_mode": {
    "name": "ipython",
    "version": 3
   },
   "file_extension": ".py",
   "mimetype": "text/x-python",
   "name": "python",
   "nbconvert_exporter": "python",
   "pygments_lexer": "ipython3",
   "version": "3.9.6"
  }
 },
 "nbformat": 4,
 "nbformat_minor": 5
}
