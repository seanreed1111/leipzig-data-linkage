{
 "cells": [
  {
   "cell_type": "code",
   "execution_count": 1,
   "id": "4d49d431-75be-4089-88f9-ebc72af8fee1",
   "metadata": {},
   "outputs": [],
   "source": [
    "import re, os, sys, unicodedata\n",
    "import pandas as pd\n",
    "import numpy as np\n",
    "import py_stringmatching as sm\n",
    "import codecs"
   ]
  },
  {
   "cell_type": "code",
   "execution_count": 2,
   "id": "87eaeca7-6787-49f6-a082-ed231dbfae89",
   "metadata": {},
   "outputs": [],
   "source": [
    "def _normalize(data):\n",
    "    \"\"\" Normalize unicode data in Python to remove umlauts, accents, spaces, etc.\"\"\"\n",
    "    normal = unicodedata.normalize('NFKD', data).encode('ASCII', 'ignore')\n",
    "    val = normal.decode(\"utf-8\")\n",
    "    val = val.lower()\n",
    "    # remove special characters\n",
    "    val = re.sub('[^A-Za-z]+', '', val)\n",
    "    return val"
   ]
  },
  {
   "cell_type": "code",
   "execution_count": 3,
   "id": "ebd08e26-952d-423d-9da6-314d9a44483c",
   "metadata": {},
   "outputs": [],
   "source": [
    "path = '/Users/galvanize/infosys/cip/data/nc_data'\n",
    "filename0, filename1 = 'nc0.csv', 'nc1.csv'\n",
    "filepath0, filepath1 = os.path.join(path, filename0), os.path.join(path, filename1)"
   ]
  },
  {
   "cell_type": "code",
   "execution_count": 33,
   "id": "66dd4f70-0811-4418-aa5b-8e47f8002e80",
   "metadata": {},
   "outputs": [],
   "source": [
    "df0 = pd.read_csv(filepath0, dtype={'recid':np.int64, 'givenname':str, 'surname':str, 'suburb':str, 'postcode':str})\n",
    "df1 = pd.read_csv(filepath1, dtype={'recid':np.int64, 'givenname':str, 'surname':str, 'suburb':str, 'postcode':str})\n"
   ]
  },
  {
   "cell_type": "code",
   "execution_count": 9,
   "id": "e7f15da4-d0e5-4b6e-b265-9bdfca0d166a",
   "metadata": {},
   "outputs": [
    {
     "name": "stdout",
     "output_type": "stream",
     "text": [
      "<class 'pandas.core.frame.DataFrame'>\n",
      "RangeIndex: 1000000 entries, 0 to 999999\n",
      "Data columns (total 5 columns):\n",
      " #   Column     Non-Null Count    Dtype \n",
      "---  ------     --------------    ----- \n",
      " 0   recid      1000000 non-null  int64 \n",
      " 1   givenname  999928 non-null   object\n",
      " 2   surname    999980 non-null   object\n",
      " 3   suburb     999953 non-null   object\n",
      " 4   postcode   999942 non-null   object\n",
      "dtypes: int64(1), object(4)\n",
      "memory usage: 38.1+ MB\n",
      "<class 'pandas.core.frame.DataFrame'>\n",
      "RangeIndex: 1000000 entries, 0 to 999999\n",
      "Data columns (total 5 columns):\n",
      " #   Column     Non-Null Count    Dtype \n",
      "---  ------     --------------    ----- \n",
      " 0   recid      1000000 non-null  int64 \n",
      " 1   givenname  999942 non-null   object\n",
      " 2   surname    999983 non-null   object\n",
      " 3   suburb     999951 non-null   object\n",
      " 4   postcode   999943 non-null   object\n",
      "dtypes: int64(1), object(4)\n",
      "memory usage: 38.1+ MB\n"
     ]
    },
    {
     "data": {
      "text/plain": [
       "(None, None)"
      ]
     },
     "execution_count": 9,
     "metadata": {},
     "output_type": "execute_result"
    }
   ],
   "source": [
    "df0.info(), df1.info()"
   ]
  },
  {
   "cell_type": "code",
   "execution_count": 34,
   "id": "1818dc3e-b984-4970-a2e6-c9433a7856e9",
   "metadata": {},
   "outputs": [],
   "source": [
    "df0.columns= [f'{col}0' for col in df0.columns]\n",
    "df1.columns = [f'{col}1' for col in df1.columns]\n",
    "\n",
    "df = pd.concat([df0,df1], axis=1)\n",
    "df = df[['recid0', 'recid1','suburb0','suburb1','givenname0','givenname1','surname0','surname1','postcode0','postcode1' ]]"
   ]
  },
  {
   "cell_type": "code",
   "execution_count": 35,
   "id": "5b2be906-5b7a-4873-987b-383840c5a0da",
   "metadata": {},
   "outputs": [],
   "source": [
    "answers = df[['recid0', 'recid1']]\n",
    "df = df.drop(['recid0', 'recid1'], axis=1)"
   ]
  },
  {
   "cell_type": "code",
   "execution_count": 36,
   "id": "56b5b483-4d32-4762-aeda-4af7be843027",
   "metadata": {},
   "outputs": [
    {
     "data": {
      "text/html": [
       "<div>\n",
       "<style scoped>\n",
       "    .dataframe tbody tr th:only-of-type {\n",
       "        vertical-align: middle;\n",
       "    }\n",
       "\n",
       "    .dataframe tbody tr th {\n",
       "        vertical-align: top;\n",
       "    }\n",
       "\n",
       "    .dataframe thead th {\n",
       "        text-align: right;\n",
       "    }\n",
       "</style>\n",
       "<table border=\"1\" class=\"dataframe\">\n",
       "  <thead>\n",
       "    <tr style=\"text-align: right;\">\n",
       "      <th></th>\n",
       "      <th>suburb0</th>\n",
       "      <th>suburb1</th>\n",
       "      <th>givenname0</th>\n",
       "      <th>givenname1</th>\n",
       "      <th>surname0</th>\n",
       "      <th>surname1</th>\n",
       "      <th>postcode0</th>\n",
       "      <th>postcode1</th>\n",
       "    </tr>\n",
       "  </thead>\n",
       "  <tbody>\n",
       "    <tr>\n",
       "      <th>0</th>\n",
       "      <td>waxhaw</td>\n",
       "      <td>raleigh</td>\n",
       "      <td>kadelyn</td>\n",
       "      <td>ashlev</td>\n",
       "      <td>gragnani</td>\n",
       "      <td>batts</td>\n",
       "      <td>2873</td>\n",
       "      <td>276o6</td>\n",
       "    </tr>\n",
       "    <tr>\n",
       "      <th>1</th>\n",
       "      <td>washington</td>\n",
       "      <td>vass</td>\n",
       "      <td>ronel</td>\n",
       "      <td>tiffamy</td>\n",
       "      <td>carter</td>\n",
       "      <td>perez</td>\n",
       "      <td>2788g</td>\n",
       "      <td>28354</td>\n",
       "    </tr>\n",
       "    <tr>\n",
       "      <th>2</th>\n",
       "      <td>millersceeek</td>\n",
       "      <td>charlogte</td>\n",
       "      <td>jason</td>\n",
       "      <td>david</td>\n",
       "      <td>roehrig</td>\n",
       "      <td>murry</td>\n",
       "      <td>286s1</td>\n",
       "      <td>28268</td>\n",
       "    </tr>\n",
       "    <tr>\n",
       "      <th>3</th>\n",
       "      <td>greensboro</td>\n",
       "      <td>rockymount</td>\n",
       "      <td>antrea</td>\n",
       "      <td>shamkea</td>\n",
       "      <td>mure</td>\n",
       "      <td>hutchinson</td>\n",
       "      <td>27410</td>\n",
       "      <td>278o4</td>\n",
       "    </tr>\n",
       "    <tr>\n",
       "      <th>4</th>\n",
       "      <td>jacksonville</td>\n",
       "      <td>louisburg</td>\n",
       "      <td>caedar</td>\n",
       "      <td>john</td>\n",
       "      <td>oliver</td>\n",
       "      <td>snyddr</td>\n",
       "      <td>28542</td>\n",
       "      <td>27s49</td>\n",
       "    </tr>\n",
       "  </tbody>\n",
       "</table>\n",
       "</div>"
      ],
      "text/plain": [
       "        suburb0     suburb1 givenname0 givenname1  surname0    surname1  \\\n",
       "0        waxhaw     raleigh    kadelyn     ashlev  gragnani       batts   \n",
       "1    washington        vass      ronel    tiffamy    carter       perez   \n",
       "2  millersceeek   charlogte      jason      david   roehrig       murry   \n",
       "3    greensboro  rockymount     antrea    shamkea      mure  hutchinson   \n",
       "4  jacksonville   louisburg     caedar       john    oliver      snyddr   \n",
       "\n",
       "  postcode0 postcode1  \n",
       "0      2873     276o6  \n",
       "1     2788g     28354  \n",
       "2     286s1     28268  \n",
       "3     27410     278o4  \n",
       "4     28542     27s49  "
      ]
     },
     "execution_count": 36,
     "metadata": {},
     "output_type": "execute_result"
    }
   ],
   "source": [
    "# str() conversion seems superfluous here (is also slow!) but there is some weird data that throws errors in the dataset w/o it \n",
    "for col in df.columns:\n",
    "    df.loc[:,col] = df[col].apply(lambda x: str(x)).str.replace('[^A-Za-z0-9]+', '', regex=True)\n",
    "df.head()"
   ]
  },
  {
   "cell_type": "markdown",
   "id": "7be740cb-f27b-4e94-86de-1eb371c76a99",
   "metadata": {},
   "source": [
    "df['suburb0'].apply(lambda x: set(tok.tokenize(x)))"
   ]
  },
  {
   "cell_type": "markdown",
   "id": "58693988-06c0-4f00-878e-b5c3005785dd",
   "metadata": {},
   "source": []
  },
  {
   "cell_type": "code",
   "execution_count": 37,
   "id": "65c6d5f5-a0cd-442a-b7be-fb0150abb8f8",
   "metadata": {},
   "outputs": [
    {
     "data": {
      "text/html": [
       "<div>\n",
       "<style scoped>\n",
       "    .dataframe tbody tr th:only-of-type {\n",
       "        vertical-align: middle;\n",
       "    }\n",
       "\n",
       "    .dataframe tbody tr th {\n",
       "        vertical-align: top;\n",
       "    }\n",
       "\n",
       "    .dataframe thead th {\n",
       "        text-align: right;\n",
       "    }\n",
       "</style>\n",
       "<table border=\"1\" class=\"dataframe\">\n",
       "  <thead>\n",
       "    <tr style=\"text-align: right;\">\n",
       "      <th></th>\n",
       "      <th>suburb0</th>\n",
       "      <th>suburb1</th>\n",
       "      <th>givenname0</th>\n",
       "      <th>givenname1</th>\n",
       "      <th>surname0</th>\n",
       "      <th>surname1</th>\n",
       "      <th>postcode0</th>\n",
       "      <th>postcode1</th>\n",
       "      <th>suburb0_qgrams</th>\n",
       "      <th>suburb1_qgrams</th>\n",
       "      <th>givenname0_qgrams</th>\n",
       "      <th>givenname1_qgrams</th>\n",
       "      <th>surname0_qgrams</th>\n",
       "      <th>surname1_qgrams</th>\n",
       "      <th>postcode0_qgrams</th>\n",
       "      <th>postcode1_qgrams</th>\n",
       "    </tr>\n",
       "  </thead>\n",
       "  <tbody>\n",
       "    <tr>\n",
       "      <th>0</th>\n",
       "      <td>waxhaw</td>\n",
       "      <td>raleigh</td>\n",
       "      <td>kadelyn</td>\n",
       "      <td>ashlev</td>\n",
       "      <td>gragnani</td>\n",
       "      <td>batts</td>\n",
       "      <td>2873</td>\n",
       "      <td>276o6</td>\n",
       "      <td>[wax, axh, xha, haw]</td>\n",
       "      <td>[ral, ale, lei, eig, igh]</td>\n",
       "      <td>[kad, ade, del, ely, lyn]</td>\n",
       "      <td>[ash, shl, hle, lev]</td>\n",
       "      <td>[gra, rag, agn, gna, nan, ani]</td>\n",
       "      <td>[bat, att, tts]</td>\n",
       "      <td>[287, 873]</td>\n",
       "      <td>[276, 76o, 6o6]</td>\n",
       "    </tr>\n",
       "    <tr>\n",
       "      <th>1</th>\n",
       "      <td>washington</td>\n",
       "      <td>vass</td>\n",
       "      <td>ronel</td>\n",
       "      <td>tiffamy</td>\n",
       "      <td>carter</td>\n",
       "      <td>perez</td>\n",
       "      <td>2788g</td>\n",
       "      <td>28354</td>\n",
       "      <td>[was, ash, shi, hin, ing, ngt, gto, ton]</td>\n",
       "      <td>[vas, ass]</td>\n",
       "      <td>[ron, one, nel]</td>\n",
       "      <td>[tif, iff, ffa, fam, amy]</td>\n",
       "      <td>[car, art, rte, ter]</td>\n",
       "      <td>[per, ere, rez]</td>\n",
       "      <td>[278, 788, 88g]</td>\n",
       "      <td>[283, 835, 354]</td>\n",
       "    </tr>\n",
       "    <tr>\n",
       "      <th>2</th>\n",
       "      <td>millersceeek</td>\n",
       "      <td>charlogte</td>\n",
       "      <td>jason</td>\n",
       "      <td>david</td>\n",
       "      <td>roehrig</td>\n",
       "      <td>murry</td>\n",
       "      <td>286s1</td>\n",
       "      <td>28268</td>\n",
       "      <td>[mil, ill, lle, ler, ers, rsc, sce, cee, eee, ...</td>\n",
       "      <td>[cha, har, arl, rlo, log, ogt, gte]</td>\n",
       "      <td>[jas, aso, son]</td>\n",
       "      <td>[dav, avi, vid]</td>\n",
       "      <td>[roe, oeh, ehr, hri, rig]</td>\n",
       "      <td>[mur, urr, rry]</td>\n",
       "      <td>[286, 86s, 6s1]</td>\n",
       "      <td>[282, 826, 268]</td>\n",
       "    </tr>\n",
       "    <tr>\n",
       "      <th>3</th>\n",
       "      <td>greensboro</td>\n",
       "      <td>rockymount</td>\n",
       "      <td>antrea</td>\n",
       "      <td>shamkea</td>\n",
       "      <td>mure</td>\n",
       "      <td>hutchinson</td>\n",
       "      <td>27410</td>\n",
       "      <td>278o4</td>\n",
       "      <td>[gre, ree, een, ens, nsb, sbo, bor, oro]</td>\n",
       "      <td>[roc, ock, cky, kym, ymo, mou, oun, unt]</td>\n",
       "      <td>[ant, ntr, tre, rea]</td>\n",
       "      <td>[sha, ham, amk, mke, kea]</td>\n",
       "      <td>[mur, ure]</td>\n",
       "      <td>[hut, utc, tch, chi, hin, ins, nso, son]</td>\n",
       "      <td>[274, 741, 410]</td>\n",
       "      <td>[278, 78o, 8o4]</td>\n",
       "    </tr>\n",
       "    <tr>\n",
       "      <th>4</th>\n",
       "      <td>jacksonville</td>\n",
       "      <td>louisburg</td>\n",
       "      <td>caedar</td>\n",
       "      <td>john</td>\n",
       "      <td>oliver</td>\n",
       "      <td>snyddr</td>\n",
       "      <td>28542</td>\n",
       "      <td>27s49</td>\n",
       "      <td>[jac, ack, cks, kso, son, onv, nvi, vil, ill, ...</td>\n",
       "      <td>[lou, oui, uis, isb, sbu, bur, urg]</td>\n",
       "      <td>[cae, aed, eda, dar]</td>\n",
       "      <td>[joh, ohn]</td>\n",
       "      <td>[oli, liv, ive, ver]</td>\n",
       "      <td>[sny, nyd, ydd, ddr]</td>\n",
       "      <td>[285, 854, 542]</td>\n",
       "      <td>[27s, 7s4, s49]</td>\n",
       "    </tr>\n",
       "  </tbody>\n",
       "</table>\n",
       "</div>"
      ],
      "text/plain": [
       "        suburb0     suburb1 givenname0 givenname1  surname0    surname1  \\\n",
       "0        waxhaw     raleigh    kadelyn     ashlev  gragnani       batts   \n",
       "1    washington        vass      ronel    tiffamy    carter       perez   \n",
       "2  millersceeek   charlogte      jason      david   roehrig       murry   \n",
       "3    greensboro  rockymount     antrea    shamkea      mure  hutchinson   \n",
       "4  jacksonville   louisburg     caedar       john    oliver      snyddr   \n",
       "\n",
       "  postcode0 postcode1                                     suburb0_qgrams  \\\n",
       "0      2873     276o6                               [wax, axh, xha, haw]   \n",
       "1     2788g     28354           [was, ash, shi, hin, ing, ngt, gto, ton]   \n",
       "2     286s1     28268  [mil, ill, lle, ler, ers, rsc, sce, cee, eee, ...   \n",
       "3     27410     278o4           [gre, ree, een, ens, nsb, sbo, bor, oro]   \n",
       "4     28542     27s49  [jac, ack, cks, kso, son, onv, nvi, vil, ill, ...   \n",
       "\n",
       "                             suburb1_qgrams          givenname0_qgrams  \\\n",
       "0                 [ral, ale, lei, eig, igh]  [kad, ade, del, ely, lyn]   \n",
       "1                                [vas, ass]            [ron, one, nel]   \n",
       "2       [cha, har, arl, rlo, log, ogt, gte]            [jas, aso, son]   \n",
       "3  [roc, ock, cky, kym, ymo, mou, oun, unt]       [ant, ntr, tre, rea]   \n",
       "4       [lou, oui, uis, isb, sbu, bur, urg]       [cae, aed, eda, dar]   \n",
       "\n",
       "           givenname1_qgrams                 surname0_qgrams  \\\n",
       "0       [ash, shl, hle, lev]  [gra, rag, agn, gna, nan, ani]   \n",
       "1  [tif, iff, ffa, fam, amy]            [car, art, rte, ter]   \n",
       "2            [dav, avi, vid]       [roe, oeh, ehr, hri, rig]   \n",
       "3  [sha, ham, amk, mke, kea]                      [mur, ure]   \n",
       "4                 [joh, ohn]            [oli, liv, ive, ver]   \n",
       "\n",
       "                            surname1_qgrams postcode0_qgrams postcode1_qgrams  \n",
       "0                           [bat, att, tts]       [287, 873]  [276, 76o, 6o6]  \n",
       "1                           [per, ere, rez]  [278, 788, 88g]  [283, 835, 354]  \n",
       "2                           [mur, urr, rry]  [286, 86s, 6s1]  [282, 826, 268]  \n",
       "3  [hut, utc, tch, chi, hin, ins, nso, son]  [274, 741, 410]  [278, 78o, 8o4]  \n",
       "4                      [sny, nyd, ydd, ddr]  [285, 854, 542]  [27s, 7s4, s49]  "
      ]
     },
     "execution_count": 37,
     "metadata": {},
     "output_type": "execute_result"
    }
   ],
   "source": [
    "# this cell is crazy slow\n",
    "tok = sm.QgramTokenizer(qval=3, return_set=True, padding=False)\n",
    "for col in df.columns:\n",
    "    df.loc[:,f'{col}_qgrams'] = df[col].apply(lambda x: tok.tokenize(x))\n",
    "df.head()"
   ]
  },
  {
   "cell_type": "code",
   "execution_count": 38,
   "id": "5d628ceb-d85b-413d-9943-92dc4ea089eb",
   "metadata": {},
   "outputs": [],
   "source": [
    "from collections import defaultdict, namedtuple"
   ]
  },
  {
   "cell_type": "markdown",
   "id": "0d29ea21-d092-49f2-9a2a-6ea8ce98969a",
   "metadata": {},
   "source": [
    "total = set()\n",
    "f = [{4,5}, {5,6}, {6,8}, {9,4}]\n",
    "for item in f:\n",
    "    total.update(item)\n",
    "\n",
    "total"
   ]
  },
  {
   "cell_type": "markdown",
   "id": "1104b386-2cab-4a10-9993-55ad7af12f67",
   "metadata": {},
   "source": [
    "task: \n",
    "    find all the existing trigrams for each field\n"
   ]
  },
  {
   "cell_type": "code",
   "execution_count": 42,
   "id": "7126039e-c9cc-430e-8bf9-ca543884a6aa",
   "metadata": {},
   "outputs": [
    {
     "data": {
      "text/plain": [
       "(12536, 13470, 16608, 2199)"
      ]
     },
     "execution_count": 42,
     "metadata": {},
     "output_type": "execute_result"
    }
   ],
   "source": [
    "all_suburb_qgrams = set().union(*df['suburb0_qgrams'].values).union(*df['suburb1_qgrams'])\n",
    "all_givenname_qgrams = set().union(*df['givenname0_qgrams'].values).union(*df['givenname1_qgrams'])\n",
    "all_surname_qgrams = set().union(*df['surname0_qgrams'].values).union(*df['surname1_qgrams'])\n",
    "all_postcode_qgrams = set().union(*df['postcode0_qgrams'].values).union(*df['postcode1_qgrams'])\n",
    "len(all_suburb_qgrams), len(all_givenname_qgrams), len(all_surname_qgrams), len(all_postcode_qgrams)"
   ]
  },
  {
   "cell_type": "code",
   "execution_count": null,
   "id": "053547d1-bbeb-40d8-9689-f96b264b613c",
   "metadata": {},
   "outputs": [],
   "source": [
    "task: \n",
    "    for each column \n",
    "    assign the column index to trigrams it contains "
   ]
  },
  {
   "cell_type": "code",
   "execution_count": 45,
   "id": "f8335fa3-7e23-4346-b9cf-c6282e7dfa41",
   "metadata": {},
   "outputs": [],
   "source": [
    "## super slow!!!!\n",
    "# suburbs key = trigram, value = index\n",
    "\n",
    "suburb_dd = defaultdict(list)\n",
    "for value, keys in zip(df.index, df['suburb0_qgrams']):\n",
    "    for key in keys:\n",
    "        suburb_dd[key].append(['0',value])\n",
    "\n",
    "for value, keys in zip(df.index, df['suburb1_qgrams']):\n",
    "    for key in keys:\n",
    "        suburb_dd[key].append(['1',value])"
   ]
  },
  {
   "cell_type": "code",
   "execution_count": 47,
   "id": "8b359115-f538-423d-a4be-ac4d537dca21",
   "metadata": {},
   "outputs": [
    {
     "data": {
      "text/plain": [
       "9229"
      ]
     },
     "execution_count": 47,
     "metadata": {},
     "output_type": "execute_result"
    }
   ],
   "source": [
    "len(suburb_dd['wax'])"
   ]
  },
  {
   "cell_type": "code",
   "execution_count": 48,
   "id": "5f24fc71-87af-4581-b728-d70d15bb369f",
   "metadata": {},
   "outputs": [],
   "source": [
    "givenname_dd =  defaultdict(list)\n",
    "for value, keys in zip(df.index, df['givenname0_qgrams']):\n",
    "    for key in keys:\n",
    "        givenname_dd[key].append(['0',value])\n",
    "\n",
    "for value, keys in zip(df.index, df['givenname1_qgrams']):\n",
    "    for key in keys:\n",
    "        givenname_dd[key].append(['1',value])"
   ]
  },
  {
   "cell_type": "code",
   "execution_count": 49,
   "id": "4d257550-5f27-4a99-a4c3-68781ea01425",
   "metadata": {},
   "outputs": [],
   "source": [
    "surname_dd = defaultdict(list)\n",
    "for value, keys in zip(df.index, df['surname0_qgrams']):\n",
    "    for key in keys:\n",
    "        surname_dd[key].append(['0',value])\n",
    "\n",
    "for value, keys in zip(df.index, df['surname1_qgrams']):\n",
    "    for key in keys:\n",
    "        surname_dd[key].append(['1',value])"
   ]
  },
  {
   "cell_type": "code",
   "execution_count": 50,
   "id": "c6bae937-1d12-4b8e-bf1e-6682790dc82a",
   "metadata": {},
   "outputs": [],
   "source": [
    "postcode_dd = defaultdict(list)\n",
    "for value, keys in zip(df.index, df['postcode0_qgrams']):\n",
    "    for key in keys:\n",
    "        postcode_dd[key].append(['0',value])\n",
    "\n",
    "for value, keys in zip(df.index, df['postcode1_qgrams']):\n",
    "    for key in keys:\n",
    "        postcode_dd[key].append(['1',value])"
   ]
  },
  {
   "cell_type": "code",
   "execution_count": 51,
   "id": "b3e6c8a0-bd1f-48b1-80a9-86fc73f2e9f3",
   "metadata": {},
   "outputs": [
    {
     "name": "stdout",
     "output_type": "stream",
     "text": [
      "\u001b[32mdata\u001b[m\u001b[m                 readme.md\n",
      "nc_test.ipynb        record_linkage.ipynb\n"
     ]
    }
   ],
   "source": [
    "!ls"
   ]
  },
  {
   "cell_type": "code",
   "execution_count": 52,
   "id": "280e709e-34fd-4020-828b-35f291eea1f8",
   "metadata": {},
   "outputs": [],
   "source": [
    "import pickle"
   ]
  },
  {
   "cell_type": "code",
   "execution_count": 53,
   "id": "115ef15b-b3b3-4584-ba8d-1218ceb56912",
   "metadata": {},
   "outputs": [],
   "source": [
    "saved_data = {}\n",
    "saved_data['suburb_dd']= suburb_dd\n",
    "saved_data['givenname_dd']= givenname_dd\n",
    "saved_data['surname_dd']= surname_dd\n",
    "saved_data['postcode_dd']= postcode_dd\n",
    "\n",
    "saved_data['all_suburb_qgrams']= all_suburb_qgrams\n",
    "saved_data['all_givenname_qgrams']= all_givenname_qgrams\n",
    "saved_data['all_surname_qgrams']= all_surname_qgrams\n",
    "saved_data['all_postcode_qgrams']= all_postcode_qgrams\n",
    "\n",
    "saved_data['df']= df\n",
    "saved_data['df0']= df0\n",
    "saved_data['df1']= df1\n",
    "\n",
    "with open('nc_test.pickle', 'wb') as f:\n",
    "    pickle.dump(saved_data, f)"
   ]
  },
  {
   "cell_type": "code",
   "execution_count": 54,
   "id": "5f86c8de-e6a4-4f01-b4ed-dd2ce6235f62",
   "metadata": {},
   "outputs": [],
   "source": [
    "computed_items = {}\n",
    "computed_items['suburb_dd']= suburb_dd\n",
    "computed_items['givenname_dd']= givenname_dd\n",
    "computed_items['surname_dd']= surname_dd\n",
    "computed_items['postcode_dd']= postcode_dd\n",
    "\n",
    "computed_items['all_suburb_qgrams']= all_suburb_qgrams\n",
    "computed_items['all_givenname_qgrams']= all_givenname_qgrams\n",
    "computed_items['all_surname_qgrams']= all_surname_qgrams\n",
    "computed_items['all_postcode_qgrams']= all_postcode_qgrams\n",
    "\n",
    "with open('nc_test_computed.pickle', 'wb') as f:\n",
    "    pickle.dump(computed_items, f)\n",
    "    \n",
    "data_frame = {}\n",
    "data_frame['df']= df\n",
    "with open('nc_test_df.pickle', 'wb') as f:\n",
    "    pickle.dump(data_frame, f)"
   ]
  },
  {
   "cell_type": "code",
   "execution_count": null,
   "id": "31c440b1-9391-4eba-9b44-ee132f4e90b9",
   "metadata": {},
   "outputs": [],
   "source": []
  },
  {
   "cell_type": "code",
   "execution_count": null,
   "id": "bcfa1c05-87ff-4aa3-baa2-f795a10a7106",
   "metadata": {},
   "outputs": [],
   "source": [
    "# assign trigrams for each r\n",
    "dd = defaultdict(list)\n",
    "\n",
    "for value, keys in zip(df.index, df.set_of_trigrams):\n",
    "    for key in keys:\n",
    "        dd[key].append(value)"
   ]
  },
  {
   "cell_type": "code",
   "execution_count": 119,
   "id": "21cd814c-3412-4853-b3a9-0576b45b7811",
   "metadata": {},
   "outputs": [],
   "source": [
    "QGRAMS = namedtuple('QGRAMS','suburb, givenname, surname, postcode') "
   ]
  },
  {
   "cell_type": "code",
   "execution_count": 123,
   "id": "ad9c5ac2-8801-40d9-bbfd-d7aa5349ffed",
   "metadata": {},
   "outputs": [],
   "source": [
    "data0 = QGRAMS(df['suburb0_qgrams'],df['givenname0_qgrams'],df['surname0_qgrams'],df['postcode0_qgrams'])"
   ]
  },
  {
   "cell_type": "code",
   "execution_count": 124,
   "id": "6e0a9cea-0d30-446c-9d50-ea6c69a4b485",
   "metadata": {},
   "outputs": [],
   "source": [
    "data1 = QGRAMS(df['suburb1_qgrams'],df['givenname1_qgrams'],df['surname1_qgrams'],df['postcode1_qgrams'])"
   ]
  },
  {
   "cell_type": "code",
   "execution_count": 126,
   "id": "81c97b46-de4c-4f3d-92f1-dc99d662c32f",
   "metadata": {},
   "outputs": [
    {
     "data": {
      "text/plain": [
       "0                                      {xha, haw, wax, axh}\n",
       "1                  {shi, gto, ton, ngt, ing, ash, was, hin}\n",
       "2         {eee, ill, mil, ler, ers, sce, cee, lle, eek, ...\n",
       "3                  {ens, gre, ree, sbo, nsb, oro, bor, een}\n",
       "4         {cks, ill, nvi, vil, onv, son, kso, ack, lle, ...\n",
       "                                ...                        \n",
       "999995                  {har, ott, rlo, arl, lot, cha, tte}\n",
       "999996                                           {den, ede}\n",
       "999997    {pri, ows, ill, wsp, wil, ngs, ing, spr, rin, ...\n",
       "999998                            {rem, mon, ont, fre, emo}\n",
       "999999                       {erd, dee, rde, abe, ber, een}\n",
       "Name: suburb0_qgrams, Length: 1000000, dtype: object"
      ]
     },
     "execution_count": 126,
     "metadata": {},
     "output_type": "execute_result"
    }
   ],
   "source": [
    "data0.suburb"
   ]
  },
  {
   "cell_type": "code",
   "execution_count": 127,
   "id": "7300193a-ec92-4e1d-953a-1301159e4e48",
   "metadata": {},
   "outputs": [
    {
     "data": {
      "text/plain": [
       "0                        {lei, ral, ale, eig, igh}\n",
       "1                                       {vas, ass}\n",
       "2              {har, rlo, arl, gte, ogt, log, cha}\n",
       "3         {ock, roc, kym, mou, unt, ymo, oun, cky}\n",
       "4              {uis, oui, isb, lou, bur, sbu, urg}\n",
       "                            ...                   \n",
       "999995                   {lei, ral, ale, eig, igh}\n",
       "999996    {min, wil, gto, ton, ngt, ing, lmi, ilm}\n",
       "999997                        {ngi, gie, ier, ang}\n",
       "999998                   {mci, lmc, cit, ity, elm}\n",
       "999999         {ann, ner, rel, ban, nne, ere, elk}\n",
       "Name: suburb1_qgrams, Length: 1000000, dtype: object"
      ]
     },
     "execution_count": 127,
     "metadata": {},
     "output_type": "execute_result"
    }
   ],
   "source": [
    "data1.suburb"
   ]
  },
  {
   "cell_type": "code",
   "execution_count": null,
   "id": "bc1fd264-a1af-4486-aee3-81c04d082a8f",
   "metadata": {},
   "outputs": [],
   "source": []
  }
 ],
 "metadata": {
  "kernelspec": {
   "display_name": "Python 3 (ipykernel)",
   "language": "python",
   "name": "python3"
  },
  "language_info": {
   "codemirror_mode": {
    "name": "ipython",
    "version": 3
   },
   "file_extension": ".py",
   "mimetype": "text/x-python",
   "name": "python",
   "nbconvert_exporter": "python",
   "pygments_lexer": "ipython3",
   "version": "3.9.6"
  }
 },
 "nbformat": 4,
 "nbformat_minor": 5
}
