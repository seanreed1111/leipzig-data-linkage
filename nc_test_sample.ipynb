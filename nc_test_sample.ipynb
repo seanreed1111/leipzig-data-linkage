{
 "cells": [
  {
   "cell_type": "code",
   "execution_count": 28,
   "id": "4d49d431-75be-4089-88f9-ebc72af8fee1",
   "metadata": {},
   "outputs": [],
   "source": [
    "import re, os, sys, unicodedata\n",
    "import pandas as pd\n",
    "import numpy as np\n",
    "import py_stringmatching as sm\n",
    "import codecs"
   ]
  },
  {
   "cell_type": "code",
   "execution_count": null,
   "id": "6082e266-ec52-44b3-9f69-bf2897078978",
   "metadata": {},
   "outputs": [],
   "source": [
    "path = '/Users/galvanize/infosys/cip/data/nc_data'\n",
    "filename0, filename1 = 'nc0.csv', 'nc1.csv'\n",
    "filepath0, filepath1 = os.path.join(path, filename0), os.path.join(path, filename1)"
   ]
  },
  {
   "cell_type": "code",
   "execution_count": 77,
   "id": "ebd08e26-952d-423d-9da6-314d9a44483c",
   "metadata": {},
   "outputs": [
    {
     "name": "stdout",
     "output_type": "stream",
     "text": [
      "<class 'pandas.core.frame.DataFrame'>\n",
      "RangeIndex: 2000 entries, 0 to 1999\n",
      "Data columns (total 4 columns):\n",
      " #   Column     Non-Null Count  Dtype \n",
      "---  ------     --------------  ----- \n",
      " 0   givenname  2000 non-null   object\n",
      " 1   surname    2000 non-null   object\n",
      " 2   suburb     1999 non-null   object\n",
      " 3   postcode   1999 non-null   object\n",
      "dtypes: object(4)\n",
      "memory usage: 62.6+ KB\n"
     ]
    }
   ],
   "source": [
    "df0 = pd.read_csv(filepath0, dtype={'recid':np.int64, 'givenname':str, 'surname':str, 'suburb':str, 'postcode':str})\n",
    "df1 = pd.read_csv(filepath1, dtype={'recid':np.int64, 'givenname':str, 'surname':str, 'suburb':str, 'postcode':str})\n",
    "ROW_BOUNDARY = 1000 #separation btw first and second files\n",
    "df = pd.concat([df0.sample(ROW_BOUNDARY), df1.sample(ROW_BOUNDARY)]).reset_index(drop=True)\n",
    "\n",
    "answers = df['recid']\n",
    "df = df.drop(['recid'], axis=1)\n",
    "df.info()"
   ]
  },
  {
   "cell_type": "code",
   "execution_count": 78,
   "id": "66dd4f70-0811-4418-aa5b-8e47f8002e80",
   "metadata": {},
   "outputs": [],
   "source": [
    "for col in df.columns:\n",
    "    df.loc[:,col] = df[col].apply(lambda x: str(x)).str.replace('[^A-Za-z0-9]+', '', regex=True)"
   ]
  },
  {
   "cell_type": "code",
   "execution_count": 79,
   "id": "bac99376-b4a9-4ecf-9452-78f756e134da",
   "metadata": {},
   "outputs": [],
   "source": [
    "tok = sm.QgramTokenizer(qval=3, return_set=True, padding=False)"
   ]
  },
  {
   "cell_type": "code",
   "execution_count": 80,
   "id": "65c6d5f5-a0cd-442a-b7be-fb0150abb8f8",
   "metadata": {},
   "outputs": [
    {
     "data": {
      "text/html": [
       "<div>\n",
       "<style scoped>\n",
       "    .dataframe tbody tr th:only-of-type {\n",
       "        vertical-align: middle;\n",
       "    }\n",
       "\n",
       "    .dataframe tbody tr th {\n",
       "        vertical-align: top;\n",
       "    }\n",
       "\n",
       "    .dataframe thead th {\n",
       "        text-align: right;\n",
       "    }\n",
       "</style>\n",
       "<table border=\"1\" class=\"dataframe\">\n",
       "  <thead>\n",
       "    <tr style=\"text-align: right;\">\n",
       "      <th></th>\n",
       "      <th>givenname</th>\n",
       "      <th>surname</th>\n",
       "      <th>suburb</th>\n",
       "      <th>postcode</th>\n",
       "      <th>givenname_qgrams</th>\n",
       "      <th>surname_qgrams</th>\n",
       "      <th>suburb_qgrams</th>\n",
       "      <th>postcode_qgrams</th>\n",
       "    </tr>\n",
       "  </thead>\n",
       "  <tbody>\n",
       "    <tr>\n",
       "      <th>0</th>\n",
       "      <td>edwin</td>\n",
       "      <td>wilson</td>\n",
       "      <td>highlands</td>\n",
       "      <td>28741</td>\n",
       "      <td>[dwi, edw, win]</td>\n",
       "      <td>[ils, lso, son, wil]</td>\n",
       "      <td>[and, ghl, hig, hla, igh, lan, nds]</td>\n",
       "      <td>[287, 741, 874]</td>\n",
       "    </tr>\n",
       "    <tr>\n",
       "      <th>1</th>\n",
       "      <td>michelle</td>\n",
       "      <td>fryman</td>\n",
       "      <td>oxford</td>\n",
       "      <td>27565</td>\n",
       "      <td>[che, ell, hel, ich, lle, mic]</td>\n",
       "      <td>[fry, man, rym, yma]</td>\n",
       "      <td>[for, ord, oxf, xfo]</td>\n",
       "      <td>[275, 565, 756]</td>\n",
       "    </tr>\n",
       "    <tr>\n",
       "      <th>2</th>\n",
       "      <td>rebecca</td>\n",
       "      <td>dully</td>\n",
       "      <td>monroe</td>\n",
       "      <td>28110</td>\n",
       "      <td>[bec, cca, ebe, ecc, reb]</td>\n",
       "      <td>[dul, lly, ull]</td>\n",
       "      <td>[mon, nro, onr, roe]</td>\n",
       "      <td>[110, 281, 811]</td>\n",
       "    </tr>\n",
       "    <tr>\n",
       "      <th>3</th>\n",
       "      <td>finnard</td>\n",
       "      <td>caldwell</td>\n",
       "      <td>greensboro</td>\n",
       "      <td>27406</td>\n",
       "      <td>[ard, fin, inn, nar, nna]</td>\n",
       "      <td>[ald, cal, dwe, ell, ldw, wel]</td>\n",
       "      <td>[bor, een, ens, gre, nsb, oro, ree, sbo]</td>\n",
       "      <td>[274, 406, 740]</td>\n",
       "    </tr>\n",
       "    <tr>\n",
       "      <th>4</th>\n",
       "      <td>rachel</td>\n",
       "      <td>wells</td>\n",
       "      <td>tarboro</td>\n",
       "      <td>27886</td>\n",
       "      <td>[ach, che, hel, rac]</td>\n",
       "      <td>[ell, lls, wel]</td>\n",
       "      <td>[arb, bor, oro, rbo, tar]</td>\n",
       "      <td>[278, 788, 886]</td>\n",
       "    </tr>\n",
       "  </tbody>\n",
       "</table>\n",
       "</div>"
      ],
      "text/plain": [
       "  givenname   surname      suburb postcode                givenname_qgrams  \\\n",
       "0     edwin    wilson   highlands    28741                 [dwi, edw, win]   \n",
       "1  michelle    fryman      oxford    27565  [che, ell, hel, ich, lle, mic]   \n",
       "2   rebecca     dully      monroe    28110       [bec, cca, ebe, ecc, reb]   \n",
       "3   finnard  caldwell  greensboro    27406       [ard, fin, inn, nar, nna]   \n",
       "4    rachel     wells     tarboro    27886            [ach, che, hel, rac]   \n",
       "\n",
       "                   surname_qgrams                             suburb_qgrams  \\\n",
       "0            [ils, lso, son, wil]       [and, ghl, hig, hla, igh, lan, nds]   \n",
       "1            [fry, man, rym, yma]                      [for, ord, oxf, xfo]   \n",
       "2                 [dul, lly, ull]                      [mon, nro, onr, roe]   \n",
       "3  [ald, cal, dwe, ell, ldw, wel]  [bor, een, ens, gre, nsb, oro, ree, sbo]   \n",
       "4                 [ell, lls, wel]                 [arb, bor, oro, rbo, tar]   \n",
       "\n",
       "   postcode_qgrams  \n",
       "0  [287, 741, 874]  \n",
       "1  [275, 565, 756]  \n",
       "2  [110, 281, 811]  \n",
       "3  [274, 406, 740]  \n",
       "4  [278, 788, 886]  "
      ]
     },
     "execution_count": 80,
     "metadata": {},
     "output_type": "execute_result"
    }
   ],
   "source": [
    "for col in df.columns:\n",
    "    df.loc[:,f'{col}_qgrams'] = df[col].apply(lambda x: sorted(tok.tokenize(x)))\n",
    "df.head()"
   ]
  },
  {
   "cell_type": "code",
   "execution_count": 81,
   "id": "6a3a4bfd-4eab-4be5-b375-35f6f7244ecc",
   "metadata": {},
   "outputs": [
    {
     "name": "stdout",
     "output_type": "stream",
     "text": [
      "<class 'pandas.core.frame.DataFrame'>\n",
      "RangeIndex: 2000 entries, 0 to 1999\n",
      "Data columns (total 8 columns):\n",
      " #   Column            Non-Null Count  Dtype \n",
      "---  ------            --------------  ----- \n",
      " 0   givenname         2000 non-null   object\n",
      " 1   surname           2000 non-null   object\n",
      " 2   suburb            2000 non-null   object\n",
      " 3   postcode          2000 non-null   object\n",
      " 4   givenname_qgrams  2000 non-null   object\n",
      " 5   surname_qgrams    2000 non-null   object\n",
      " 6   suburb_qgrams     2000 non-null   object\n",
      " 7   postcode_qgrams   2000 non-null   object\n",
      "dtypes: object(8)\n",
      "memory usage: 125.1+ KB\n"
     ]
    }
   ],
   "source": [
    "df.info()"
   ]
  },
  {
   "cell_type": "code",
   "execution_count": 82,
   "id": "350eb0de-f64d-4821-81dd-e28c7d6e763e",
   "metadata": {},
   "outputs": [
    {
     "data": {
      "text/plain": [
       "(1340, 1384, 2276, 606)"
      ]
     },
     "execution_count": 82,
     "metadata": {},
     "output_type": "execute_result"
    }
   ],
   "source": [
    "all_suburb_qgrams = set().union(*df['suburb_qgrams'].values)\n",
    "all_givenname_qgrams = set().union(*df['givenname_qgrams'].values)\n",
    "all_surname_qgrams = set().union(*df['surname_qgrams'].values)\n",
    "all_postcode_qgrams = set().union(*df['postcode_qgrams'].values)\n",
    "len(all_suburb_qgrams), len(all_givenname_qgrams), len(all_surname_qgrams), len(all_postcode_qgrams)"
   ]
  },
  {
   "cell_type": "code",
   "execution_count": 139,
   "id": "7965c646-ed98-4e2d-bc2c-4d08e2e584d8",
   "metadata": {},
   "outputs": [],
   "source": [
    "from collections import defaultdict\n",
    "from itertools import combinations\n",
    "from more_itertools import partition"
   ]
  },
  {
   "cell_type": "code",
   "execution_count": 146,
   "id": "6bd7cdce-2919-498e-a0e6-adbdbf25151b",
   "metadata": {},
   "outputs": [
    {
     "data": {
      "text/plain": [
       "64661"
      ]
     },
     "execution_count": 146,
     "metadata": {},
     "output_type": "execute_result"
    }
   ],
   "source": [
    "postcode_dict = dict(zip(df.index, df.postcode_qgrams))\n",
    "inverted_postcode_dict = defaultdict(list)\n",
    "for key, values in postcode_dict.items():\n",
    "    for value in values:\n",
    "        inverted_postcode_dict[value].append(key)\n",
    "\n",
    "rows_to_compare_postcode = set()\n",
    "for key in inverted_postcode_dict.keys():\n",
    "    _, combos = partition(lambda t: t[0] < ROW_BOUNDARY and t[1] >= ROW_BOUNDARY,\n",
    "                        combinations(inverted_postcode_dict[key], 2))\n",
    "    rows_to_compare_postcode.update(set(combos))\n",
    "\n",
    "len(rows_to_compare_postcode)"
   ]
  },
  {
   "cell_type": "code",
   "execution_count": 147,
   "id": "f789fd7a-578e-4ed5-8c0a-559edf239147",
   "metadata": {},
   "outputs": [
    {
     "data": {
      "text/plain": [
       "64661"
      ]
     },
     "execution_count": 147,
     "metadata": {},
     "output_type": "execute_result"
    }
   ],
   "source": [
    "len(rows_to_compare_postcode)"
   ]
  },
  {
   "cell_type": "code",
   "execution_count": 149,
   "id": "2173e182-6304-4705-96fc-5c212e441688",
   "metadata": {},
   "outputs": [
    {
     "data": {
      "text/plain": [
       "98958"
      ]
     },
     "execution_count": 149,
     "metadata": {},
     "output_type": "execute_result"
    }
   ],
   "source": [
    "suburb_dict = dict(zip(df.index, df.suburb_qgrams))\n",
    "inverted_suburb_dict = defaultdict(list)\n",
    "for key, values in suburb_dict.items():\n",
    "    for value in values:\n",
    "        inverted_suburb_dict[value].append(key)\n",
    "\n",
    "rows_to_compare_suburb = set()\n",
    "for key in inverted_suburb_dict.keys():\n",
    "    _, combos = partition(lambda t: t[0] < ROW_BOUNDARY and t[1] >= ROW_BOUNDARY,\n",
    "                        combinations(inverted_suburb_dict[key], 2))\n",
    "    rows_to_compare_suburb.update(set(combos))\n",
    "len(rows_to_compare_suburb)"
   ]
  },
  {
   "cell_type": "code",
   "execution_count": 150,
   "id": "b0429e7b-1fd5-41bd-9d34-2f8cb2908718",
   "metadata": {},
   "outputs": [
    {
     "data": {
      "text/plain": [
       "23179"
      ]
     },
     "execution_count": 150,
     "metadata": {},
     "output_type": "execute_result"
    }
   ],
   "source": [
    "surname_dict = dict(zip(df.index, df.surname_qgrams))\n",
    "inverted_surname_dict = defaultdict(list)\n",
    "for key, values in surname_dict.items():\n",
    "    for value in values:\n",
    "        inverted_surname_dict[value].append(key)\n",
    "\n",
    "rows_to_compare_surname = set()\n",
    "for key in inverted_surname_dict.keys():\n",
    "    _, combos = partition(lambda t: t[0] < ROW_BOUNDARY and t[1] >= ROW_BOUNDARY,\n",
    "                        combinations(inverted_surname_dict[key], 2))\n",
    "    rows_to_compare_surname.update(set(combos))\n",
    "len(rows_to_compare_surname)"
   ]
  },
  {
   "cell_type": "code",
   "execution_count": 151,
   "id": "97195618-4c48-439e-8d0d-5a9e1013b0c5",
   "metadata": {},
   "outputs": [
    {
     "data": {
      "text/plain": [
       "23520"
      ]
     },
     "execution_count": 151,
     "metadata": {},
     "output_type": "execute_result"
    }
   ],
   "source": [
    "givenname_dict = dict(zip(df.index, df.givenname_qgrams))\n",
    "inverted_givenname_dict = defaultdict(list)\n",
    "for key, values in givenname_dict.items():\n",
    "    for value in values:\n",
    "        inverted_givenname_dict[value].append(key)\n",
    "\n",
    "rows_to_compare_givenname = set()\n",
    "for key in inverted_givenname_dict.keys():\n",
    "    _, combos = partition(lambda t: t[0] < ROW_BOUNDARY and t[1] >= ROW_BOUNDARY,\n",
    "                        combinations(inverted_givenname_dict[key], 2))\n",
    "    rows_to_compare_givenname.update(set(combos))\n",
    "len(rows_to_compare_givenname)"
   ]
  },
  {
   "cell_type": "code",
   "execution_count": 154,
   "id": "943c14dd-fed1-48e3-82e1-6559cb5e1759",
   "metadata": {},
   "outputs": [
    {
     "data": {
      "text/plain": [
       "182916"
      ]
     },
     "execution_count": 154,
     "metadata": {},
     "output_type": "execute_result"
    }
   ],
   "source": [
    "final = (set().union(rows_to_compare_givenname,\n",
    "                     rows_to_compare_surname,\n",
    "                     rows_to_compare_suburb,\n",
    "                     rows_to_compare_postcode\n",
    "                    )\n",
    "        )\n",
    "\n",
    "len(final)"
   ]
  },
  {
   "cell_type": "code",
   "execution_count": 155,
   "id": "9b8c820c-fdb1-42a8-8504-cdada856174d",
   "metadata": {},
   "outputs": [
    {
     "data": {
      "text/plain": [
       "1000000"
      ]
     },
     "execution_count": 155,
     "metadata": {},
     "output_type": "execute_result"
    }
   ],
   "source": [
    "ROW_BOUNDARY**2"
   ]
  },
  {
   "cell_type": "code",
   "execution_count": 156,
   "id": "243a7ef7-e4a8-48b9-ac91-8823879c5db4",
   "metadata": {},
   "outputs": [
    {
     "data": {
      "text/plain": [
       "0.182916"
      ]
     },
     "execution_count": 156,
     "metadata": {},
     "output_type": "execute_result"
    }
   ],
   "source": [
    "len(final)/ROW_BOUNDARY**2"
   ]
  },
  {
   "cell_type": "code",
   "execution_count": null,
   "id": "a9100548-bc57-4c6b-be1f-5f6b2bca5d43",
   "metadata": {},
   "outputs": [],
   "source": []
  },
  {
   "cell_type": "code",
   "execution_count": null,
   "id": "34db748d-65ce-4ab0-9698-b5895bc01bfb",
   "metadata": {},
   "outputs": [],
   "source": []
  }
 ],
 "metadata": {
  "kernelspec": {
   "display_name": "Python 3 (ipykernel)",
   "language": "python",
   "name": "python3"
  },
  "language_info": {
   "codemirror_mode": {
    "name": "ipython",
    "version": 3
   },
   "file_extension": ".py",
   "mimetype": "text/x-python",
   "name": "python",
   "nbconvert_exporter": "python",
   "pygments_lexer": "ipython3",
   "version": "3.9.6"
  }
 },
 "nbformat": 4,
 "nbformat_minor": 5
}
